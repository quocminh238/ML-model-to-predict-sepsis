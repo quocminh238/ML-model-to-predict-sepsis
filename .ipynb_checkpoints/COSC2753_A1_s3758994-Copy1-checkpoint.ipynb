{
 "cells": [
  {
   "cell_type": "markdown",
   "id": "0d9ec7f9",
   "metadata": {},
   "source": [
    "<span style='color:Red'> **Assignment 1** </span>\n",
    "\n",
    "**RMIT University Vietnam**\n",
    "\n",
    "**Course:** COSC2753 - Machine Learning\n",
    "\n",
    "**Student Name:** Nguyen Quoc Minh\n",
    "\n",
    "**Student ID:** s3758994\n",
    "\n",
    "**Lecturer:** Mr. Bao Nguyen\n",
    "\n",
    "**Due Date:** 8 April 2022"
   ]
  },
  {
   "cell_type": "markdown",
   "id": "5dfb5d9c",
   "metadata": {},
   "source": [
    "## 1. Import Libraries"
   ]
  },
  {
   "cell_type": "code",
   "execution_count": 535,
   "id": "ece235cc",
   "metadata": {},
   "outputs": [],
   "source": [
    "import pandas as pd\n",
    "import matplotlib.pyplot as plt\n",
    "import numpy as np\n",
    "import seaborn as sns"
   ]
  },
  {
   "cell_type": "markdown",
   "id": "4b96202a",
   "metadata": {},
   "source": [
    "## 2. Import dataset"
   ]
  },
  {
   "cell_type": "code",
   "execution_count": 536,
   "id": "3dd0ad24",
   "metadata": {},
   "outputs": [],
   "source": [
    "# Import Paitients_Files_Train.csv into a DataFrame and drop 2 columns ID and Insurance\n",
    "paitientsDf = pd.read_csv(\"Paitients_Files_Train.csv\"\n",
    "                        , delimiter= \",\").drop(['ID', 'Insurance'], axis='columns')\n",
    "\n",
    "\n",
    "# print(trainPaitientsData)"
   ]
  },
  {
   "cell_type": "markdown",
   "id": "ee363c74",
   "metadata": {},
   "source": [
    "## 3. Transform data for Sepssis column into Binary"
   ]
  },
  {
   "cell_type": "code",
   "execution_count": 537,
   "id": "82b99d74",
   "metadata": {},
   "outputs": [
    {
     "name": "stdout",
     "output_type": "stream",
     "text": [
      "     PRG   PL  PR  SK   TS   M11    BD2  Age  Sepssis\n",
      "0      6  148  72  35    0  33.6  0.627   50        1\n",
      "1      1   85  66  29    0  26.6  0.351   31        0\n",
      "2      8  183  64   0    0  23.3  0.672   32        1\n",
      "3      1   89  66  23   94  28.1  0.167   21        0\n",
      "4      0  137  40  35  168  43.1  2.288   33        1\n",
      "..   ...  ...  ..  ..  ...   ...    ...  ...      ...\n",
      "594    6  123  72  45  230  33.6  0.733   34        0\n",
      "595    0  188  82  14  185  32.0  0.682   22        1\n",
      "596    0   67  76   0    0  45.3  0.194   46        0\n",
      "597    1   89  24  19   25  27.8  0.559   21        0\n",
      "598    1  173  74   0    0  36.8  0.088   38        1\n",
      "\n",
      "[599 rows x 9 columns]\n"
     ]
    }
   ],
   "source": [
    "# Data of Sepssis is converted into Binary Data\n",
    "df_one = pd.get_dummies(paitientsDf[\"Sepssis\"])\n",
    " \n",
    "# Binary Data is Concatenated into Dataframe\n",
    "df_two = pd.concat((paitientsDf,df_one), axis=1)\n",
    " \n",
    "# Sepssis column is dropped\n",
    "df_two = df_two.drop([\"Sepssis\"], axis=1)\n",
    " \n",
    "# Let Negative =0 and Positive =1 so I drop Negative column here\n",
    "df_two = df_two.drop([\"Negative\"], axis=1)\n",
    " \n",
    "# Rename the Column\n",
    "newPaitientsDf = df_two.rename(columns={\"Positive\": \"Sepssis\"})\n",
    " \n",
    "# Print the Result\n",
    "print(newPaitientsDf)"
   ]
  },
  {
   "cell_type": "markdown",
   "id": "f6179df5",
   "metadata": {},
   "source": [
    "=> Based on the output above, after eliminating the attributes of \"ID\" and \"Insurance\" , as well as transform data for Sepsiss column as the requirement of the assignment to train the models. There are totally 9 columns (attributes) with 599 rows of data for each attribute. The abbreviated column names:\n",
    "- PRG: Plasma glucose\n",
    "- PL: Blood Work Result-1 (mu U/ml) \n",
    "- PR: Blood Pressure (mm Hg) \n",
    "- SK: Blood Work Result-2 (mm) \n",
    "- TS: Blood Work Result-3 (mu U/ml)\n",
    "- M11: Body mass index (weight in kg/(height in m)^2\n",
    "- BD2: Blood Work Result-4 (mu U/ml) \n",
    "- Age: patients age  (years)\n",
    "- Sepssis: 1(Positive): if a patient in ICU will develop a sepsis , and 0(Negative): otherwise"
   ]
  },
  {
   "cell_type": "markdown",
   "id": "dff36b6f",
   "metadata": {},
   "source": [
    "## 3. Exploratory Data Analysis (EDA)"
   ]
  },
  {
   "cell_type": "code",
   "execution_count": 538,
   "id": "5875e10a",
   "metadata": {},
   "outputs": [
    {
     "data": {
      "text/plain": [
       "(599, 9)"
      ]
     },
     "execution_count": 538,
     "metadata": {},
     "output_type": "execute_result"
    }
   ],
   "source": [
    "#See the shape of the dataframe\n",
    "newPaitientsDf.shape"
   ]
  },
  {
   "cell_type": "code",
   "execution_count": 539,
   "id": "d0a835b1",
   "metadata": {},
   "outputs": [
    {
     "name": "stdout",
     "output_type": "stream",
     "text": [
      "<class 'pandas.core.frame.DataFrame'>\n",
      "RangeIndex: 599 entries, 0 to 598\n",
      "Data columns (total 9 columns):\n",
      " #   Column   Non-Null Count  Dtype  \n",
      "---  ------   --------------  -----  \n",
      " 0   PRG      599 non-null    int64  \n",
      " 1   PL       599 non-null    int64  \n",
      " 2   PR       599 non-null    int64  \n",
      " 3   SK       599 non-null    int64  \n",
      " 4   TS       599 non-null    int64  \n",
      " 5   M11      599 non-null    float64\n",
      " 6   BD2      599 non-null    float64\n",
      " 7   Age      599 non-null    int64  \n",
      " 8   Sepssis  599 non-null    uint8  \n",
      "dtypes: float64(2), int64(6), uint8(1)\n",
      "memory usage: 38.1 KB\n",
      "\n",
      "Another way to check missing values:\n",
      "PRG        0\n",
      "PL         0\n",
      "PR         0\n",
      "SK         0\n",
      "TS         0\n",
      "M11        0\n",
      "BD2        0\n",
      "Age        0\n",
      "Sepssis    0\n",
      "dtype: int64\n"
     ]
    }
   ],
   "source": [
    "#Check for missing values in data which is presented as NaN\n",
    "newPaitientsDf.info()\n",
    "\n",
    "## Another way to check missing values\n",
    "print('\\nAnother way to check missing values:')\n",
    "print(newPaitientsDf.isnull().sum().sort_values())"
   ]
  },
  {
   "cell_type": "markdown",
   "id": "6efe9963",
   "metadata": {},
   "source": [
    "=> There is no missing/null value in the training data"
   ]
  },
  {
   "cell_type": "code",
   "execution_count": 540,
   "id": "27a2671f",
   "metadata": {},
   "outputs": [
    {
     "data": {
      "text/plain": [
       "PRG         0.000\n",
       "PL          0.000\n",
       "PR          0.000\n",
       "SK          0.000\n",
       "TS          0.000\n",
       "M11         0.000\n",
       "BD2         0.078\n",
       "Age        21.000\n",
       "Sepssis     0.000\n",
       "dtype: float64"
      ]
     },
     "execution_count": 540,
     "metadata": {},
     "output_type": "execute_result"
    }
   ],
   "source": [
    "#Calculate min for each attribute\n",
    "pd.DataFrame.min(newPaitientsDf)"
   ]
  },
  {
   "cell_type": "code",
   "execution_count": 541,
   "id": "1bef16f0",
   "metadata": {},
   "outputs": [
    {
     "data": {
      "text/plain": [
       "PRG         17.00\n",
       "PL         198.00\n",
       "PR         122.00\n",
       "SK          99.00\n",
       "TS         846.00\n",
       "M11         67.10\n",
       "BD2          2.42\n",
       "Age         81.00\n",
       "Sepssis      1.00\n",
       "dtype: float64"
      ]
     },
     "execution_count": 541,
     "metadata": {},
     "output_type": "execute_result"
    }
   ],
   "source": [
    "#Calculate max for each attribute\n",
    "pd.DataFrame.max(newPaitientsDf)"
   ]
  },
  {
   "cell_type": "code",
   "execution_count": 542,
   "id": "49b431d2",
   "metadata": {},
   "outputs": [
    {
     "data": {
      "text/plain": [
       "PRG          3.824708\n",
       "PL         120.153589\n",
       "PR          68.732888\n",
       "SK          20.562604\n",
       "TS          79.460768\n",
       "M11         31.920033\n",
       "BD2          0.481187\n",
       "Age         33.290484\n",
       "Sepssis      0.347245\n",
       "dtype: float64"
      ]
     },
     "execution_count": 542,
     "metadata": {},
     "output_type": "execute_result"
    }
   ],
   "source": [
    "#Calculate mean for each attribute\n",
    "pd.DataFrame.mean(newPaitientsDf)"
   ]
  },
  {
   "cell_type": "code",
   "execution_count": 543,
   "id": "284759ae",
   "metadata": {},
   "outputs": [
    {
     "data": {
      "text/plain": [
       "PRG          3.000\n",
       "PL         116.000\n",
       "PR          70.000\n",
       "SK          23.000\n",
       "TS          36.000\n",
       "M11         32.000\n",
       "BD2          0.383\n",
       "Age         29.000\n",
       "Sepssis      0.000\n",
       "dtype: float64"
      ]
     },
     "execution_count": 543,
     "metadata": {},
     "output_type": "execute_result"
    }
   ],
   "source": [
    "#Calculate median for each attribute\n",
    "pd.DataFrame.median(newPaitientsDf)"
   ]
  },
  {
   "cell_type": "code",
   "execution_count": 544,
   "id": "b3b4e859",
   "metadata": {},
   "outputs": [
    {
     "data": {
      "text/html": [
       "<div>\n",
       "<style scoped>\n",
       "    .dataframe tbody tr th:only-of-type {\n",
       "        vertical-align: middle;\n",
       "    }\n",
       "\n",
       "    .dataframe tbody tr th {\n",
       "        vertical-align: top;\n",
       "    }\n",
       "\n",
       "    .dataframe thead th {\n",
       "        text-align: right;\n",
       "    }\n",
       "</style>\n",
       "<table border=\"1\" class=\"dataframe\">\n",
       "  <thead>\n",
       "    <tr style=\"text-align: right;\">\n",
       "      <th></th>\n",
       "      <th>PRG</th>\n",
       "      <th>PL</th>\n",
       "      <th>PR</th>\n",
       "      <th>SK</th>\n",
       "      <th>TS</th>\n",
       "      <th>M11</th>\n",
       "      <th>BD2</th>\n",
       "      <th>Age</th>\n",
       "      <th>Sepssis</th>\n",
       "    </tr>\n",
       "  </thead>\n",
       "  <tbody>\n",
       "    <tr>\n",
       "      <th>count</th>\n",
       "      <td>599.000000</td>\n",
       "      <td>599.000000</td>\n",
       "      <td>599.000000</td>\n",
       "      <td>599.000000</td>\n",
       "      <td>599.000000</td>\n",
       "      <td>599.000000</td>\n",
       "      <td>599.000000</td>\n",
       "      <td>599.000000</td>\n",
       "      <td>599.000000</td>\n",
       "    </tr>\n",
       "    <tr>\n",
       "      <th>mean</th>\n",
       "      <td>3.824708</td>\n",
       "      <td>120.153589</td>\n",
       "      <td>68.732888</td>\n",
       "      <td>20.562604</td>\n",
       "      <td>79.460768</td>\n",
       "      <td>31.920033</td>\n",
       "      <td>0.481187</td>\n",
       "      <td>33.290484</td>\n",
       "      <td>0.347245</td>\n",
       "    </tr>\n",
       "    <tr>\n",
       "      <th>std</th>\n",
       "      <td>3.362839</td>\n",
       "      <td>32.682364</td>\n",
       "      <td>19.335675</td>\n",
       "      <td>16.017622</td>\n",
       "      <td>116.576176</td>\n",
       "      <td>8.008227</td>\n",
       "      <td>0.337552</td>\n",
       "      <td>11.828446</td>\n",
       "      <td>0.476492</td>\n",
       "    </tr>\n",
       "    <tr>\n",
       "      <th>min</th>\n",
       "      <td>0.000000</td>\n",
       "      <td>0.000000</td>\n",
       "      <td>0.000000</td>\n",
       "      <td>0.000000</td>\n",
       "      <td>0.000000</td>\n",
       "      <td>0.000000</td>\n",
       "      <td>0.078000</td>\n",
       "      <td>21.000000</td>\n",
       "      <td>0.000000</td>\n",
       "    </tr>\n",
       "    <tr>\n",
       "      <th>25%</th>\n",
       "      <td>1.000000</td>\n",
       "      <td>99.000000</td>\n",
       "      <td>64.000000</td>\n",
       "      <td>0.000000</td>\n",
       "      <td>0.000000</td>\n",
       "      <td>27.100000</td>\n",
       "      <td>0.248000</td>\n",
       "      <td>24.000000</td>\n",
       "      <td>0.000000</td>\n",
       "    </tr>\n",
       "    <tr>\n",
       "      <th>50%</th>\n",
       "      <td>3.000000</td>\n",
       "      <td>116.000000</td>\n",
       "      <td>70.000000</td>\n",
       "      <td>23.000000</td>\n",
       "      <td>36.000000</td>\n",
       "      <td>32.000000</td>\n",
       "      <td>0.383000</td>\n",
       "      <td>29.000000</td>\n",
       "      <td>0.000000</td>\n",
       "    </tr>\n",
       "    <tr>\n",
       "      <th>75%</th>\n",
       "      <td>6.000000</td>\n",
       "      <td>140.000000</td>\n",
       "      <td>80.000000</td>\n",
       "      <td>32.000000</td>\n",
       "      <td>123.500000</td>\n",
       "      <td>36.550000</td>\n",
       "      <td>0.647000</td>\n",
       "      <td>40.000000</td>\n",
       "      <td>1.000000</td>\n",
       "    </tr>\n",
       "    <tr>\n",
       "      <th>max</th>\n",
       "      <td>17.000000</td>\n",
       "      <td>198.000000</td>\n",
       "      <td>122.000000</td>\n",
       "      <td>99.000000</td>\n",
       "      <td>846.000000</td>\n",
       "      <td>67.100000</td>\n",
       "      <td>2.420000</td>\n",
       "      <td>81.000000</td>\n",
       "      <td>1.000000</td>\n",
       "    </tr>\n",
       "  </tbody>\n",
       "</table>\n",
       "</div>"
      ],
      "text/plain": [
       "              PRG          PL          PR          SK          TS         M11  \\\n",
       "count  599.000000  599.000000  599.000000  599.000000  599.000000  599.000000   \n",
       "mean     3.824708  120.153589   68.732888   20.562604   79.460768   31.920033   \n",
       "std      3.362839   32.682364   19.335675   16.017622  116.576176    8.008227   \n",
       "min      0.000000    0.000000    0.000000    0.000000    0.000000    0.000000   \n",
       "25%      1.000000   99.000000   64.000000    0.000000    0.000000   27.100000   \n",
       "50%      3.000000  116.000000   70.000000   23.000000   36.000000   32.000000   \n",
       "75%      6.000000  140.000000   80.000000   32.000000  123.500000   36.550000   \n",
       "max     17.000000  198.000000  122.000000   99.000000  846.000000   67.100000   \n",
       "\n",
       "              BD2         Age     Sepssis  \n",
       "count  599.000000  599.000000  599.000000  \n",
       "mean     0.481187   33.290484    0.347245  \n",
       "std      0.337552   11.828446    0.476492  \n",
       "min      0.078000   21.000000    0.000000  \n",
       "25%      0.248000   24.000000    0.000000  \n",
       "50%      0.383000   29.000000    0.000000  \n",
       "75%      0.647000   40.000000    1.000000  \n",
       "max      2.420000   81.000000    1.000000  "
      ]
     },
     "execution_count": 544,
     "metadata": {},
     "output_type": "execute_result"
    }
   ],
   "source": [
    "newPaitientsDf.describe()"
   ]
  },
  {
   "cell_type": "markdown",
   "id": "84e743e0",
   "metadata": {},
   "source": [
    "=> "
   ]
  },
  {
   "cell_type": "markdown",
   "id": "33e4858a",
   "metadata": {},
   "source": [
    "## 4. Data Visualization"
   ]
  },
  {
   "cell_type": "code",
   "execution_count": 545,
   "id": "aad663f3",
   "metadata": {},
   "outputs": [
    {
     "data": {
      "image/png": "[encoded data removed]",
      "text/plain": [
       "<Figure size 1440x1440 with 9 Axes>"
      ]
     },
     "metadata": {
      "needs_background": "light"
     },
     "output_type": "display_data"
    }
   ],
   "source": [
    "#Using the histogram plot to estimate the distribution of a variable\n",
    "plt.figure(figsize=(20,20))\n",
    "for i, col in enumerate(newPaitientsDf.columns):\n",
    "    plt.subplot(4,5,i+1)\n",
    "    plt.hist(newPaitientsDf[col], alpha=0.3, color='b', density=True)\n",
    "    plt.title(col)\n",
    "    plt.xticks(rotation='vertical')"
   ]
  },
  {
   "cell_type": "markdown",
   "id": "d79b344e",
   "metadata": {},
   "source": [
    "=> Observation:\n",
    "- Attribute Sepssis is a categorical variable. Most data are from class 0 and data from class 1 is only half of class 0.\n",
    "- Attributes PRG, TS, BD2, Age are heavily skewed.\n",
    "- Target variable PL is distributed around 120 with some extreme values around 198.\n",
    "- Target variable PR is distributed around 68 with some extreme values around 122.\n",
    "- Target variable M11 is distributed around 31 with several values around 67.\n",
    "- SK\n"
   ]
  },
  {
   "cell_type": "code",
   "execution_count": 546,
   "id": "4977b839",
   "metadata": {},
   "outputs": [
    {
     "data": {
      "image/png": "[encoded data removed]",
      "text/plain": [
       "<Figure size 792x648 with 2 Axes>"
      ]
     },
     "metadata": {
      "needs_background": "light"
     },
     "output_type": "display_data"
    }
   ],
   "source": [
    "#Check the correlation between variables in the data\n",
    "f, ax = plt.subplots(figsize=(11, 9))\n",
    "corr = newPaitientsDf.corr()\n",
    "ax = sns.heatmap(\n",
    "    corr, \n",
    "    vmin=-1, vmax=1, center=0,\n",
    "    square=True,\n",
    "    annot = True\n",
    ")\n",
    "ax.set_xticklabels(\n",
    "    ax.get_xticklabels(),\n",
    "    rotation=90,\n",
    "    horizontalalignment='right'\n",
    ");"
   ]
  },
  {
   "cell_type": "markdown",
   "id": "5eaee86a",
   "metadata": {},
   "source": [
    "=> Observation: \n",
    "- There seems to be a good linear relationship between Sepssis and PL\n",
    "- The relationship between Sepssis and other variables appears except PL to be nonlinier (e.g. BD2, M11, TS, SK, PR, PRG)."
   ]
  },
  {
   "cell_type": "code",
   "execution_count": 547,
   "id": "fb49494a",
   "metadata": {},
   "outputs": [
    {
     "data": {
      "image/png": "[encoded data removed]",
      "text/plain": [
       "<Figure size 432x288 with 1 Axes>"
      ]
     },
     "metadata": {
      "needs_background": "light"
     },
     "output_type": "display_data"
    },
    {
     "data": {
      "text/plain": [
       "<Figure size 432x288 with 0 Axes>"
      ]
     },
     "metadata": {},
     "output_type": "display_data"
    }
   ],
   "source": [
    "#\n",
    "sns.countplot(x='Sepssis',data=newPaitientsDf).set_title(\"Classify Paitients Positive And Negative\")\n",
    "plt.show()\n",
    "plt.savefig('count_plot')"
   ]
  },
  {
   "cell_type": "code",
   "execution_count": 548,
   "id": "b1ccfcf6",
   "metadata": {},
   "outputs": [
    {
     "name": "stdout",
     "output_type": "stream",
     "text": [
      "Percentage of Positive is:  34.72454090150251\n",
      "Percentage of Negative is:  65.27545909849749\n"
     ]
    }
   ],
   "source": [
    "numberOfPositive = len(newPaitientsDf[newPaitientsDf['Sepssis']== 1])\n",
    "numberOfNegative = len(newPaitientsDf[newPaitientsDf['Sepssis']== 0])\n",
    "percentageOfPositive = numberOfPositive / (numberOfPositive + numberOfNegative)\n",
    "print(\"Percentage of Positive is: \" , percentageOfPositive * 100)\n",
    "percentageOfNegative = numberOfNegative / (numberOfPositive + numberOfNegative)\n",
    "print(\"Percentage of Negative is: \" , percentageOfNegative * 100)"
   ]
  },
  {
   "cell_type": "markdown",
   "id": "1936d5fb",
   "metadata": {},
   "source": [
    "=> According to the graph above, Dataset is not balanced. The patient negative (class 0) to patient positive (class 1) ratio is approximately 2 times 67: 33. ( 65 : 35).\n",
    "As a result, there is a strong probability that this dataset is better at classifying negative patients than positive patients. In the graph, this dataset is skewed to the right (class 0)."
   ]
  },
  {
   "cell_type": "markdown",
   "id": "ccd1b690",
   "metadata": {},
   "source": [
    "## 5. Data Pre-processing"
   ]
  },
  {
   "cell_type": "code",
   "execution_count": 549,
   "id": "7bab087d",
   "metadata": {},
   "outputs": [],
   "source": [
    "paitients_x = newPaitientsDf[['PL']]\n",
    "paitients_y = newPaitientsDf['Sepssis']"
   ]
  },
  {
   "cell_type": "code",
   "execution_count": 550,
   "id": "a88233bb",
   "metadata": {},
   "outputs": [
    {
     "name": "stdout",
     "output_type": "stream",
     "text": [
      "(599, 1)\n",
      "(599,)\n"
     ]
    }
   ],
   "source": [
    "print(paitients_uniPL_x.shape)\n",
    "print(paitients_y.shape)"
   ]
  },
  {
   "cell_type": "code",
   "execution_count": 551,
   "id": "b4057e74",
   "metadata": {},
   "outputs": [
    {
     "name": "stdout",
     "output_type": "stream",
     "text": [
      "trainX:  (479, 1)\n",
      "valX:  (120, 1)\n",
      "trainY:  (479,)\n",
      "valY:  (120,)\n"
     ]
    }
   ],
   "source": [
    "from sklearn.model_selection import train_test_split\n",
    "\n",
    "trainX, valX, trainY, valY = train_test_split(paitients_x, paitients_y, test_size=0.2,shuffle=True)\n",
    "print(\"trainX: \", trainX.shape)\n",
    "print(\"valX: \", valX.shape)\n",
    "print(\"trainY: \", trainY.shape)\n",
    "print(\"valY: \", valY.shape)"
   ]
  },
  {
   "cell_type": "markdown",
   "id": "caf0288a",
   "metadata": {},
   "source": [
    "## 6. Data Scaling"
   ]
  },
  {
   "cell_type": "code",
   "execution_count": 552,
   "id": "ce223408",
   "metadata": {},
   "outputs": [],
   "source": [
    "from sklearn.preprocessing import StandardScaler\n",
    "scaler = StandardScaler()\n",
    "scaler.fit(trainX)\n",
    "\n",
    "# scale trainX, testX and valX\n",
    "trainX_scale = scaler.transform(trainX)\n",
    "valX_scale = scaler.transform(valX)\n",
    "\n",
    "# convert trainY into a contiguous flattened array for fitting into the model\n",
    "trainY_ravel = trainY.values.ravel()"
   ]
  },
  {
   "cell_type": "markdown",
   "id": "02893e47",
   "metadata": {},
   "source": [
    "## 7. Training Models"
   ]
  },
  {
   "cell_type": "markdown",
   "id": "9be85970",
   "metadata": {},
   "source": [
    "### 7.1 Function for Hyper Parameter Tuning"
   ]
  },
  {
   "cell_type": "code",
   "execution_count": 553,
   "id": "5bb40fcc",
   "metadata": {},
   "outputs": [],
   "source": [
    "def hyperParameterTuning(trainX, trainY, model, parameters):\n",
    "    # define search engine\n",
    "    gsearch = GridSearchCV(estimator = model,\n",
    "                           param_grid = parameters,                        \n",
    "                           scoring = metrics.make_scorer(metrics.f1_score),  \n",
    "                           cv = 5,\n",
    "                           n_jobs = -1,\n",
    "                           verbose = 1)\n",
    "    \n",
    "    # find parameters that produces best performance in f1-score\n",
    "    gsearch.fit(trainX, trainY)\n",
    "    print(\"Best parameters:\",gsearch.best_params_)"
   ]
  },
  {
   "cell_type": "markdown",
   "id": "9aae861c",
   "metadata": {},
   "source": [
    "Using GridSearchCV for finding the set of parameters that produces the best performance in f1-score. Cross validation method is used for finding the best set of parameters.\n",
    "\n",
    "**Explanation:**\n",
    "\n",
    "**estimator**: model for tuning\n",
    "\n",
    "**param_grid**: set of parameters for tuning\n",
    "\n",
    "**scoring**: evaluation metric (f1-score)\n",
    "\n",
    "**cv**: cross validation (5-fold cross validation)"
   ]
  },
  {
   "cell_type": "markdown",
   "id": "1325c828",
   "metadata": {},
   "source": [
    "### 7.2 Logistic Regression"
   ]
  },
  {
   "cell_type": "code",
   "execution_count": 554,
   "id": "6e6b2cb1",
   "metadata": {},
   "outputs": [],
   "source": [
    "# perform logistic regression\n",
    "from sklearn.linear_model import LogisticRegression\n",
    "from sklearn.model_selection import GridSearchCV\n",
    "from sklearn import metrics "
   ]
  },
  {
   "cell_type": "code",
   "execution_count": 555,
   "id": "b0199706",
   "metadata": {},
   "outputs": [
    {
     "data": {
      "text/plain": [
       "LogisticRegression()"
      ]
     },
     "execution_count": 555,
     "metadata": {},
     "output_type": "execute_result"
    }
   ],
   "source": [
    "# Basic model\n",
    "logReg = LogisticRegression()\n",
    "logReg.fit(trainX_scale, trainY_ravel)"
   ]
  },
  {
   "cell_type": "code",
   "execution_count": 556,
   "id": "2e2fa24d",
   "metadata": {},
   "outputs": [
    {
     "name": "stdout",
     "output_type": "stream",
     "text": [
      "              precision    recall  f1-score   support\n",
      "\n",
      "           0       0.74      0.94      0.82        78\n",
      "           1       0.76      0.38      0.51        42\n",
      "\n",
      "    accuracy                           0.74       120\n",
      "   macro avg       0.75      0.66      0.67       120\n",
      "weighted avg       0.75      0.74      0.71       120\n",
      "\n"
     ]
    }
   ],
   "source": [
    "# measure performance on validation set\n",
    "preds = logReg.predict(valX_scale)\n",
    "print(metrics.classification_report(valY, preds))"
   ]
  },
  {
   "cell_type": "markdown",
   "id": "732e5d17",
   "metadata": {},
   "source": [
    "#### Explaination:"
   ]
  },
  {
   "cell_type": "code",
   "execution_count": 557,
   "id": "b72bca45",
   "metadata": {},
   "outputs": [
    {
     "name": "stdout",
     "output_type": "stream",
     "text": [
      "Fitting 5 folds for each of 375 candidates, totalling 1875 fits\n",
      "Best parameters: {'C': 1000, 'max_iter': 1, 'penalty': 'l2', 'solver': 'sag'}\n"
     ]
    },
    {
     "name": "stderr",
     "output_type": "stream",
     "text": [
      "C:\\Users\\rjich\\anaconda3\\lib\\site-packages\\sklearn\\model_selection\\_search.py:922: UserWarning: One or more of the test scores are non-finite: [       nan        nan 0.5570518         nan 0.5235789  0.5504858\n",
      " 0.5504858  0.5504858  0.49089397 0.49939623        nan        nan\n",
      "        nan        nan        nan        nan        nan 0.55294535\n",
      "        nan 0.5418907  0.53201003 0.53201003 0.5570518  0.49220146\n",
      " 0.50287852        nan        nan        nan        nan        nan\n",
      "        nan        nan 0.55294535        nan 0.54203182 0.54203182\n",
      " 0.54203182 0.5570518  0.54203182 0.54203182        nan        nan\n",
      "        nan        nan        nan        nan        nan 0.55294535\n",
      "        nan 0.54203182 0.54203182 0.54203182 0.5570518  0.54203182\n",
      " 0.54203182        nan        nan        nan        nan        nan\n",
      "        nan        nan 0.55294535        nan 0.54203182 0.54203182\n",
      " 0.54203182 0.5570518  0.54203182 0.54203182        nan        nan\n",
      "        nan        nan        nan        nan        nan 0.54200466\n",
      "        nan 0.57113832 0.5504858  0.5504858  0.5504858  0.57216055\n",
      " 0.5257754         nan        nan        nan        nan        nan\n",
      "        nan        nan 0.5548156         nan 0.53236427 0.5570518\n",
      " 0.5570518  0.55518155 0.53342466 0.56461907        nan        nan\n",
      "        nan        nan        nan        nan        nan 0.55518155\n",
      "        nan 0.5570518  0.5570518  0.5570518  0.55518155 0.5570518\n",
      " 0.5570518         nan        nan        nan        nan        nan\n",
      "        nan        nan 0.55518155        nan 0.5570518  0.5570518\n",
      " 0.5570518  0.55518155 0.5570518  0.5570518         nan        nan\n",
      "        nan        nan        nan        nan        nan 0.55518155\n",
      "        nan 0.5570518  0.5570518  0.5570518  0.55518155 0.5570518\n",
      " 0.5570518         nan        nan        nan        nan        nan\n",
      "        nan        nan 0.54468028        nan 0.49297464 0.5504858\n",
      " 0.5504858  0.5504858  0.55029937 0.52984749        nan        nan\n",
      "        nan        nan        nan        nan        nan 0.5548156\n",
      "        nan 0.53167736 0.55518155 0.5570518  0.55518155 0.50812278\n",
      " 0.53034809        nan        nan        nan        nan        nan\n",
      "        nan        nan 0.55518155        nan 0.55518155 0.55518155\n",
      " 0.55518155 0.55518155 0.55518155 0.55518155        nan        nan\n",
      "        nan        nan        nan        nan        nan 0.55518155\n",
      "        nan 0.55518155 0.55518155 0.55518155 0.55518155 0.55518155\n",
      " 0.55518155        nan        nan        nan        nan        nan\n",
      "        nan        nan 0.55518155        nan 0.55518155 0.55518155\n",
      " 0.55518155 0.55518155 0.55518155 0.55518155        nan        nan\n",
      "        nan        nan        nan        nan        nan 0.54468028\n",
      "        nan 0.56242037 0.5504858  0.5504858  0.5504858  0.40452529\n",
      " 0.53851752        nan        nan        nan        nan        nan\n",
      "        nan        nan 0.5570518         nan 0.52799022 0.55518155\n",
      " 0.5570518  0.55518155 0.56586693 0.55669566        nan        nan\n",
      "        nan        nan        nan        nan        nan 0.55518155\n",
      "        nan 0.55518155 0.55518155 0.55518155 0.55518155 0.55518155\n",
      " 0.55518155        nan        nan        nan        nan        nan\n",
      "        nan        nan 0.55518155        nan 0.55518155 0.55518155\n",
      " 0.55518155 0.55518155 0.55518155 0.55518155        nan        nan\n",
      "        nan        nan        nan        nan        nan 0.55518155\n",
      "        nan 0.55518155 0.55518155 0.55518155 0.55518155 0.55518155\n",
      " 0.55518155        nan        nan        nan        nan        nan\n",
      "        nan        nan 0.54468028        nan 0.50729084 0.5504858\n",
      " 0.5504858  0.5504858  0.59388354 0.58369359        nan        nan\n",
      "        nan        nan        nan        nan        nan 0.5548156\n",
      "        nan 0.52571949 0.55518155 0.5570518  0.55518155 0.51643085\n",
      " 0.53357434        nan        nan        nan        nan        nan\n",
      "        nan        nan 0.55518155        nan 0.55518155 0.55518155\n",
      " 0.55518155 0.55518155 0.55518155 0.55518155        nan        nan\n",
      "        nan        nan        nan        nan        nan 0.55518155\n",
      "        nan 0.55518155 0.55518155 0.55518155 0.55518155 0.55518155\n",
      " 0.55518155        nan        nan        nan        nan        nan\n",
      "        nan        nan 0.55518155        nan 0.55518155 0.55518155\n",
      " 0.55518155 0.55518155 0.55518155 0.55518155        nan        nan\n",
      "        nan        nan        nan]\n",
      "  warnings.warn(\n",
      "C:\\Users\\rjich\\anaconda3\\lib\\site-packages\\sklearn\\linear_model\\_sag.py:328: ConvergenceWarning: The max_iter was reached which means the coef_ did not converge\n",
      "  warnings.warn(\"The max_iter was reached which means \"\n"
     ]
    }
   ],
   "source": [
    "# hyperparameters tuning for Logistic Regression\n",
    "logRegParameters = {'C':         [0.1, 1, 10, 100, 1000],\n",
    "                    'penalty':  ['l1', 'l2', 'elasticnet'], \n",
    "                    'max_iter': [1, 2, 100, 500, 1000],\n",
    "                    'solver':   ['newton-cg', 'lbfgs', 'liblinear', 'sag', 'saga']}\n",
    "\n",
    "# perform hyperparameter tuning, only run once for result\n",
    "hyperParameterTuning(trainX_scale, trainY_ravel, LogisticRegression(), logRegParameters)"
   ]
  }
 ],
 "metadata": {
  "kernelspec": {
   "display_name": "Python 3 (ipykernel)",
   "language": "python",
   "name": "python3"
  },
  "language_info": {
   "codemirror_mode": {
    "name": "ipython",
    "version": 3
   },
   "file_extension": ".py",
   "mimetype": "text/x-python",
   "name": "python",
   "nbconvert_exporter": "python",
   "pygments_lexer": "ipython3",
   "version": "3.9.7"
  }
 },
 "nbformat": 4,
 "nbformat_minor": 5
}
