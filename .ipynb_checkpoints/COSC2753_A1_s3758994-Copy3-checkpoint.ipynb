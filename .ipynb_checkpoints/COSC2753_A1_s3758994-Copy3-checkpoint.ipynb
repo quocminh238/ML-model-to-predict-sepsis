{
 "cells": [
  {
   "cell_type": "markdown",
   "id": "0d9ec7f9",
   "metadata": {},
   "source": [
    "<span style='color:Red'> **Assignment 1** </span>\n",
    "\n",
    "**RMIT University Vietnam**\n",
    "\n",
    "**Course:** COSC2753 - Machine Learning\n",
    "\n",
    "**Student Name:** Nguyen Quoc Minh\n",
    "\n",
    "**Student ID:** s3758994\n",
    "\n",
    "**Lecturer:** Mr. Bao Nguyen\n",
    "\n",
    "**Due Date:** 9 April 2022"
   ]
  },
  {
   "cell_type": "markdown",
   "id": "5dfb5d9c",
   "metadata": {},
   "source": [
    "## 1. Import Libraries"
   ]
  },
  {
   "cell_type": "code",
   "execution_count": 2,
   "id": "ece235cc",
   "metadata": {},
   "outputs": [],
   "source": [
    "import pandas as pd\n",
    "import matplotlib.pyplot as plt\n",
    "import numpy as np\n",
    "import seaborn as sns"
   ]
  },
  {
   "cell_type": "markdown",
   "id": "4b96202a",
   "metadata": {},
   "source": [
    "## 2. Import dataset"
   ]
  },
  {
   "cell_type": "code",
   "execution_count": 3,
   "id": "3dd0ad24",
   "metadata": {},
   "outputs": [],
   "source": [
    "# Import Paitients_Files_Train.csv into a DataFrame and drop 2 columns ID and Insurance\n",
    "paitientsDf = pd.read_csv(\"Paitients_Files_Train.csv\"\n",
    "                        , delimiter= \",\").drop(['ID', 'Insurance'], axis='columns')\n"
   ]
  },
  {
   "cell_type": "markdown",
   "id": "ee363c74",
   "metadata": {},
   "source": [
    "## 3. Transform data for Sepssis column into Binary"
   ]
  },
  {
   "cell_type": "code",
   "execution_count": 4,
   "id": "82b99d74",
   "metadata": {},
   "outputs": [
    {
     "name": "stdout",
     "output_type": "stream",
     "text": [
      "     PRG   PL  PR  SK   TS   M11    BD2  Age  Sepssis\n",
      "0      6  148  72  35    0  33.6  0.627   50        1\n",
      "1      1   85  66  29    0  26.6  0.351   31        0\n",
      "2      8  183  64   0    0  23.3  0.672   32        1\n",
      "3      1   89  66  23   94  28.1  0.167   21        0\n",
      "4      0  137  40  35  168  43.1  2.288   33        1\n",
      "..   ...  ...  ..  ..  ...   ...    ...  ...      ...\n",
      "594    6  123  72  45  230  33.6  0.733   34        0\n",
      "595    0  188  82  14  185  32.0  0.682   22        1\n",
      "596    0   67  76   0    0  45.3  0.194   46        0\n",
      "597    1   89  24  19   25  27.8  0.559   21        0\n",
      "598    1  173  74   0    0  36.8  0.088   38        1\n",
      "\n",
      "[599 rows x 9 columns]\n"
     ]
    }
   ],
   "source": [
    "# Data of Sepssis is converted into Binary Data\n",
    "df_one = pd.get_dummies(paitientsDf[\"Sepssis\"])\n",
    " \n",
    "# Binary Data is Concatenated into Dataframe\n",
    "df_two = pd.concat((paitientsDf,df_one), axis=1)\n",
    " \n",
    "# Sepssis column is dropped\n",
    "df_two = df_two.drop([\"Sepssis\"], axis=1)\n",
    " \n",
    "# Let Negative =0 and Positive =1 so I drop Negative column here\n",
    "df_two = df_two.drop([\"Negative\"], axis=1)\n",
    " \n",
    "# Rename the Column\n",
    "newPaitientsDf = df_two.rename(columns={\"Positive\": \"Sepssis\"})\n",
    " \n",
    "# Print the new DataFrame\n",
    "print(newPaitientsDf)"
   ]
  },
  {
   "cell_type": "markdown",
   "id": "f6179df5",
   "metadata": {},
   "source": [
    "**=>** Based on the output above, after eliminating the attributes of **ID** and **Insurance** , as well as transform data for **Sepsiss** column as the requirement of the assignment to train the models. There are totally 9 columns (attributes) with 599 rows of data for each attribute.\n",
    "**The abbreviated column names:**\n",
    "- **PRG**: Plasma glucose\n",
    "- **PL**: Blood Work Result-1 (mu U/ml) \n",
    "- **PR**: Blood Pressure (mm Hg) \n",
    "- **SK**: Blood Work Result-2 (mm) \n",
    "- **TS**: Blood Work Result-3 (mu U/ml)\n",
    "- **M11**: Body mass index (weight in kg/(height in m)^2\n",
    "- **BD2**: Blood Work Result-4 (mu U/ml) \n",
    "- **Age**: patients age  (years)\n",
    "- **Sepssis**: 1(Positive): if a patient in ICU will develop a sepsis , and 0(Negative): otherwise\n",
    "\n",
    "<font color='green'> The target column is **Sepssis** and all the other columns are attributes. </font>"
   ]
  },
  {
   "cell_type": "markdown",
   "id": "dff36b6f",
   "metadata": {},
   "source": [
    "## 3. Exploratory Data Analysis (EDA)"
   ]
  },
  {
   "cell_type": "code",
   "execution_count": 5,
   "id": "5875e10a",
   "metadata": {},
   "outputs": [
    {
     "data": {
      "text/plain": [
       "(599, 9)"
      ]
     },
     "execution_count": 5,
     "metadata": {},
     "output_type": "execute_result"
    }
   ],
   "source": [
    "#See the shape of the dataframe\n",
    "newPaitientsDf.shape"
   ]
  },
  {
   "cell_type": "code",
   "execution_count": 6,
   "id": "d0a835b1",
   "metadata": {},
   "outputs": [
    {
     "name": "stdout",
     "output_type": "stream",
     "text": [
      "<class 'pandas.core.frame.DataFrame'>\n",
      "RangeIndex: 599 entries, 0 to 598\n",
      "Data columns (total 9 columns):\n",
      " #   Column   Non-Null Count  Dtype  \n",
      "---  ------   --------------  -----  \n",
      " 0   PRG      599 non-null    int64  \n",
      " 1   PL       599 non-null    int64  \n",
      " 2   PR       599 non-null    int64  \n",
      " 3   SK       599 non-null    int64  \n",
      " 4   TS       599 non-null    int64  \n",
      " 5   M11      599 non-null    float64\n",
      " 6   BD2      599 non-null    float64\n",
      " 7   Age      599 non-null    int64  \n",
      " 8   Sepssis  599 non-null    uint8  \n",
      "dtypes: float64(2), int64(6), uint8(1)\n",
      "memory usage: 38.1 KB\n",
      "\n",
      "Another way to check missing values:\n",
      "PRG        0\n",
      "PL         0\n",
      "PR         0\n",
      "SK         0\n",
      "TS         0\n",
      "M11        0\n",
      "BD2        0\n",
      "Age        0\n",
      "Sepssis    0\n",
      "dtype: int64\n"
     ]
    }
   ],
   "source": [
    "#Check for missing values in data which is presented as NaN\n",
    "newPaitientsDf.info()\n",
    "\n",
    "## Another way to check missing values\n",
    "print('\\nAnother way to check missing values:')\n",
    "print(newPaitientsDf.isnull().sum().sort_values())"
   ]
  },
  {
   "cell_type": "markdown",
   "id": "6efe9963",
   "metadata": {},
   "source": [
    "**=>** There is no missing/null value in the training data"
   ]
  },
  {
   "cell_type": "code",
   "execution_count": 7,
   "id": "27a2671f",
   "metadata": {},
   "outputs": [
    {
     "data": {
      "text/plain": [
       "PRG         0.000\n",
       "PL          0.000\n",
       "PR          0.000\n",
       "SK          0.000\n",
       "TS          0.000\n",
       "M11         0.000\n",
       "BD2         0.078\n",
       "Age        21.000\n",
       "Sepssis     0.000\n",
       "dtype: float64"
      ]
     },
     "execution_count": 7,
     "metadata": {},
     "output_type": "execute_result"
    }
   ],
   "source": [
    "#Calculate min for each attribute\n",
    "pd.DataFrame.min(newPaitientsDf)"
   ]
  },
  {
   "cell_type": "code",
   "execution_count": 8,
   "id": "1bef16f0",
   "metadata": {},
   "outputs": [
    {
     "data": {
      "text/plain": [
       "PRG         17.00\n",
       "PL         198.00\n",
       "PR         122.00\n",
       "SK          99.00\n",
       "TS         846.00\n",
       "M11         67.10\n",
       "BD2          2.42\n",
       "Age         81.00\n",
       "Sepssis      1.00\n",
       "dtype: float64"
      ]
     },
     "execution_count": 8,
     "metadata": {},
     "output_type": "execute_result"
    }
   ],
   "source": [
    "#Calculate max for each attribute\n",
    "pd.DataFrame.max(newPaitientsDf)"
   ]
  },
  {
   "cell_type": "code",
   "execution_count": 9,
   "id": "49b431d2",
   "metadata": {},
   "outputs": [
    {
     "data": {
      "text/plain": [
       "PRG          3.824708\n",
       "PL         120.153589\n",
       "PR          68.732888\n",
       "SK          20.562604\n",
       "TS          79.460768\n",
       "M11         31.920033\n",
       "BD2          0.481187\n",
       "Age         33.290484\n",
       "Sepssis      0.347245\n",
       "dtype: float64"
      ]
     },
     "execution_count": 9,
     "metadata": {},
     "output_type": "execute_result"
    }
   ],
   "source": [
    "#Calculate mean for each attribute\n",
    "pd.DataFrame.mean(newPaitientsDf)"
   ]
  },
  {
   "cell_type": "code",
   "execution_count": 10,
   "id": "284759ae",
   "metadata": {},
   "outputs": [
    {
     "data": {
      "text/plain": [
       "PRG          3.000\n",
       "PL         116.000\n",
       "PR          70.000\n",
       "SK          23.000\n",
       "TS          36.000\n",
       "M11         32.000\n",
       "BD2          0.383\n",
       "Age         29.000\n",
       "Sepssis      0.000\n",
       "dtype: float64"
      ]
     },
     "execution_count": 10,
     "metadata": {},
     "output_type": "execute_result"
    }
   ],
   "source": [
    "#Calculate median for each attribute\n",
    "pd.DataFrame.median(newPaitientsDf)"
   ]
  },
  {
   "cell_type": "code",
   "execution_count": 11,
   "id": "b3b4e859",
   "metadata": {},
   "outputs": [
    {
     "data": {
      "text/html": [
       "<div>\n",
       "<style scoped>\n",
       "    .dataframe tbody tr th:only-of-type {\n",
       "        vertical-align: middle;\n",
       "    }\n",
       "\n",
       "    .dataframe tbody tr th {\n",
       "        vertical-align: top;\n",
       "    }\n",
       "\n",
       "    .dataframe thead th {\n",
       "        text-align: right;\n",
       "    }\n",
       "</style>\n",
       "<table border=\"1\" class=\"dataframe\">\n",
       "  <thead>\n",
       "    <tr style=\"text-align: right;\">\n",
       "      <th></th>\n",
       "      <th>PRG</th>\n",
       "      <th>PL</th>\n",
       "      <th>PR</th>\n",
       "      <th>SK</th>\n",
       "      <th>TS</th>\n",
       "      <th>M11</th>\n",
       "      <th>BD2</th>\n",
       "      <th>Age</th>\n",
       "      <th>Sepssis</th>\n",
       "    </tr>\n",
       "  </thead>\n",
       "  <tbody>\n",
       "    <tr>\n",
       "      <th>count</th>\n",
       "      <td>599.000000</td>\n",
       "      <td>599.000000</td>\n",
       "      <td>599.000000</td>\n",
       "      <td>599.000000</td>\n",
       "      <td>599.000000</td>\n",
       "      <td>599.000000</td>\n",
       "      <td>599.000000</td>\n",
       "      <td>599.000000</td>\n",
       "      <td>599.000000</td>\n",
       "    </tr>\n",
       "    <tr>\n",
       "      <th>mean</th>\n",
       "      <td>3.824708</td>\n",
       "      <td>120.153589</td>\n",
       "      <td>68.732888</td>\n",
       "      <td>20.562604</td>\n",
       "      <td>79.460768</td>\n",
       "      <td>31.920033</td>\n",
       "      <td>0.481187</td>\n",
       "      <td>33.290484</td>\n",
       "      <td>0.347245</td>\n",
       "    </tr>\n",
       "    <tr>\n",
       "      <th>std</th>\n",
       "      <td>3.362839</td>\n",
       "      <td>32.682364</td>\n",
       "      <td>19.335675</td>\n",
       "      <td>16.017622</td>\n",
       "      <td>116.576176</td>\n",
       "      <td>8.008227</td>\n",
       "      <td>0.337552</td>\n",
       "      <td>11.828446</td>\n",
       "      <td>0.476492</td>\n",
       "    </tr>\n",
       "    <tr>\n",
       "      <th>min</th>\n",
       "      <td>0.000000</td>\n",
       "      <td>0.000000</td>\n",
       "      <td>0.000000</td>\n",
       "      <td>0.000000</td>\n",
       "      <td>0.000000</td>\n",
       "      <td>0.000000</td>\n",
       "      <td>0.078000</td>\n",
       "      <td>21.000000</td>\n",
       "      <td>0.000000</td>\n",
       "    </tr>\n",
       "    <tr>\n",
       "      <th>25%</th>\n",
       "      <td>1.000000</td>\n",
       "      <td>99.000000</td>\n",
       "      <td>64.000000</td>\n",
       "      <td>0.000000</td>\n",
       "      <td>0.000000</td>\n",
       "      <td>27.100000</td>\n",
       "      <td>0.248000</td>\n",
       "      <td>24.000000</td>\n",
       "      <td>0.000000</td>\n",
       "    </tr>\n",
       "    <tr>\n",
       "      <th>50%</th>\n",
       "      <td>3.000000</td>\n",
       "      <td>116.000000</td>\n",
       "      <td>70.000000</td>\n",
       "      <td>23.000000</td>\n",
       "      <td>36.000000</td>\n",
       "      <td>32.000000</td>\n",
       "      <td>0.383000</td>\n",
       "      <td>29.000000</td>\n",
       "      <td>0.000000</td>\n",
       "    </tr>\n",
       "    <tr>\n",
       "      <th>75%</th>\n",
       "      <td>6.000000</td>\n",
       "      <td>140.000000</td>\n",
       "      <td>80.000000</td>\n",
       "      <td>32.000000</td>\n",
       "      <td>123.500000</td>\n",
       "      <td>36.550000</td>\n",
       "      <td>0.647000</td>\n",
       "      <td>40.000000</td>\n",
       "      <td>1.000000</td>\n",
       "    </tr>\n",
       "    <tr>\n",
       "      <th>max</th>\n",
       "      <td>17.000000</td>\n",
       "      <td>198.000000</td>\n",
       "      <td>122.000000</td>\n",
       "      <td>99.000000</td>\n",
       "      <td>846.000000</td>\n",
       "      <td>67.100000</td>\n",
       "      <td>2.420000</td>\n",
       "      <td>81.000000</td>\n",
       "      <td>1.000000</td>\n",
       "    </tr>\n",
       "  </tbody>\n",
       "</table>\n",
       "</div>"
      ],
      "text/plain": [
       "              PRG          PL          PR          SK          TS         M11  \\\n",
       "count  599.000000  599.000000  599.000000  599.000000  599.000000  599.000000   \n",
       "mean     3.824708  120.153589   68.732888   20.562604   79.460768   31.920033   \n",
       "std      3.362839   32.682364   19.335675   16.017622  116.576176    8.008227   \n",
       "min      0.000000    0.000000    0.000000    0.000000    0.000000    0.000000   \n",
       "25%      1.000000   99.000000   64.000000    0.000000    0.000000   27.100000   \n",
       "50%      3.000000  116.000000   70.000000   23.000000   36.000000   32.000000   \n",
       "75%      6.000000  140.000000   80.000000   32.000000  123.500000   36.550000   \n",
       "max     17.000000  198.000000  122.000000   99.000000  846.000000   67.100000   \n",
       "\n",
       "              BD2         Age     Sepssis  \n",
       "count  599.000000  599.000000  599.000000  \n",
       "mean     0.481187   33.290484    0.347245  \n",
       "std      0.337552   11.828446    0.476492  \n",
       "min      0.078000   21.000000    0.000000  \n",
       "25%      0.248000   24.000000    0.000000  \n",
       "50%      0.383000   29.000000    0.000000  \n",
       "75%      0.647000   40.000000    1.000000  \n",
       "max      2.420000   81.000000    1.000000  "
      ]
     },
     "execution_count": 11,
     "metadata": {},
     "output_type": "execute_result"
    }
   ],
   "source": [
    "#getting various summary statistics\n",
    "newPaitientsDf.describe()"
   ]
  },
  {
   "cell_type": "markdown",
   "id": "84e743e0",
   "metadata": {},
   "source": [
    "**=>** Based on the statistic table above, it showed that except only **Sepssis** column is Nominal categorical variables , all the remaining columns are Discrete numerical variables"
   ]
  },
  {
   "cell_type": "markdown",
   "id": "33e4858a",
   "metadata": {},
   "source": [
    "## 4. Data Visualization"
   ]
  },
  {
   "cell_type": "code",
   "execution_count": 12,
   "id": "aad663f3",
   "metadata": {},
   "outputs": [
    {
     "data": {
      "image/png": "[encoded data removed]",
      "text/plain": [
       "<Figure size 1440x1440 with 9 Axes>"
      ]
     },
     "metadata": {
      "needs_background": "light"
     },
     "output_type": "display_data"
    }
   ],
   "source": [
    "#Using the histogram plot to estimate the distribution of a variable\n",
    "plt.figure(figsize=(20,20))\n",
    "for i, col in enumerate(newPaitientsDf.columns):\n",
    "    plt.subplot(4,5,i+1)\n",
    "    plt.hist(newPaitientsDf[col], alpha=0.3, color='b', density=True)\n",
    "    plt.title(col)\n",
    "    plt.xticks(rotation='vertical')"
   ]
  },
  {
   "cell_type": "markdown",
   "id": "d79b344e",
   "metadata": {},
   "source": [
    "**=> Observation**:\n",
    "- Attribute **Sepssis** is a categorical variable. Therefore, most data are from class 0, and data from class 1 is only half of class 0.\n",
    "- Attributes **SK,PRG, TS, BD2, Age** are heavily skewed down to the right.\n",
    "- Target variable **PL** is distributed around 120 with some extreme values around 198.\n",
    "- Target variable **PR** is distributed around 68 with some extreme values around 122.\n",
    "- Target variable **M11** is distributed around 31 with several values around 67."
   ]
  },
  {
   "cell_type": "code",
   "execution_count": 13,
   "id": "4977b839",
   "metadata": {},
   "outputs": [
    {
     "data": {
      "image/png": "[encoded data removed]",
      "text/plain": [
       "<Figure size 792x648 with 2 Axes>"
      ]
     },
     "metadata": {
      "needs_background": "light"
     },
     "output_type": "display_data"
    }
   ],
   "source": [
    "#To predict Sepssis (target variable) using all other attributes, plot the relationship between Sepssis and other columns.\n",
    "#Check the correlation between variables in the data \n",
    "f, ax = plt.subplots(figsize=(11, 9))\n",
    "corr = newPaitientsDf.corr()\n",
    "ax = sns.heatmap(\n",
    "    corr, \n",
    "    vmin=-1, vmax=1, center=0,\n",
    "    square=True,\n",
    "    annot = True\n",
    ")\n",
    "ax.set_xticklabels(\n",
    "    ax.get_xticklabels(),\n",
    "    rotation=90,\n",
    "    horizontalalignment='right'\n",
    ");"
   ]
  },
  {
   "cell_type": "markdown",
   "id": "5eaee86a",
   "metadata": {},
   "source": [
    "**=> Observation:** \n",
    "- There seems to be a good linear relationship between **Sepssis** and **PL**\n",
    "- The relationship between **Sepssis** and other variables appears ,except **PL**, to be nonlinier (e.g. **BD2, M11, TS, SK, PR, PRG**)."
   ]
  },
  {
   "cell_type": "code",
   "execution_count": 14,
   "id": "aa94b310",
   "metadata": {},
   "outputs": [
    {
     "data": {
      "image/png": "[encoded data removed]",
      "text/plain": [
       "<Figure size 432x288 with 1 Axes>"
      ]
     },
     "metadata": {
      "needs_background": "light"
     },
     "output_type": "display_data"
    },
    {
     "data": {
      "text/plain": [
       "<Figure size 432x288 with 0 Axes>"
      ]
     },
     "metadata": {},
     "output_type": "display_data"
    }
   ],
   "source": [
    "# Plot to see the classify of the number of negative and positive sepssis for patients.\n",
    "\n",
    "sns.countplot(x='Sepssis',data=newPaitientsDf).set_title(\"Classify Paitients Positive And Negative\")\n",
    "plt.show()\n",
    "plt.savefig('count_plot')"
   ]
  },
  {
   "cell_type": "code",
   "execution_count": 15,
   "id": "f1beb4fe",
   "metadata": {},
   "outputs": [
    {
     "name": "stdout",
     "output_type": "stream",
     "text": [
      "Percentage of Positive is:  34.72454090150251\n",
      "Percentage of Negative is:  65.27545909849749\n"
     ]
    }
   ],
   "source": [
    "numberOfPositive = len(newPaitientsDf[newPaitientsDf['Sepssis']== 1])\n",
    "numberOfNegative = len(newPaitientsDf[newPaitientsDf['Sepssis']== 0])\n",
    "percentageOfPositive = numberOfPositive / (numberOfPositive + numberOfNegative)\n",
    "print(\"Percentage of Positive is: \" , percentageOfPositive * 100)\n",
    "percentageOfNegative = numberOfNegative / (numberOfPositive + numberOfNegative)\n",
    "print(\"Percentage of Negative is: \" , percentageOfNegative * 100)"
   ]
  },
  {
   "cell_type": "markdown",
   "id": "ab46ad78",
   "metadata": {},
   "source": [
    "**=>** According to the graph and result after calculation above, Dataset is not balanced. The patient negative (class 0) to patient positive (class 1) ratio is approximately 2 times 65 : 35.\n",
    "As a result, there is a strong probability that this dataset is better at classifying negative patients than positive patients. In the graph, this dataset is skewed to the right (class 0)."
   ]
  },
  {
   "cell_type": "markdown",
   "id": "ccd1b690",
   "metadata": {},
   "source": [
    "## 5. Data Pre-processing"
   ]
  },
  {
   "cell_type": "code",
   "execution_count": 16,
   "id": "9e5d7d65",
   "metadata": {},
   "outputs": [],
   "source": [
    "paitients_x = newPaitientsDf[['PRG','PL','PR','SK','TS','M11','BD2','Age']]\n",
    "paitients_y = newPaitientsDf['Sepssis']"
   ]
  },
  {
   "cell_type": "code",
   "execution_count": 17,
   "id": "ed7894d6",
   "metadata": {},
   "outputs": [
    {
     "name": "stdout",
     "output_type": "stream",
     "text": [
      "(599, 8)\n",
      "(599,)\n"
     ]
    }
   ],
   "source": [
    "print(paitients_x.shape)\n",
    "print(paitients_y.shape)"
   ]
  },
  {
   "cell_type": "code",
   "execution_count": 18,
   "id": "7e927361",
   "metadata": {},
   "outputs": [
    {
     "name": "stdout",
     "output_type": "stream",
     "text": [
      "trainX:  (479, 8)\n",
      "valX:  (120, 8)\n",
      "trainY:  (479,)\n",
      "valY:  (120,)\n"
     ]
    }
   ],
   "source": [
    "from sklearn.model_selection import train_test_split\n",
    "\n",
    "#Using the ratio 80:20 to split the dataframe\n",
    "trainX, valX, trainY, valY = train_test_split(paitients_x, paitients_y, test_size=0.2,shuffle=True)\n",
    "print(\"trainX: \", trainX.shape)\n",
    "print(\"valX: \", valX.shape)\n",
    "print(\"trainY: \", trainY.shape)\n",
    "print(\"valY: \", valY.shape)"
   ]
  },
  {
   "cell_type": "markdown",
   "id": "c55bb39c",
   "metadata": {},
   "source": [
    "## 6. Data Scaling"
   ]
  },
  {
   "cell_type": "code",
   "execution_count": 19,
   "id": "0dc20448",
   "metadata": {},
   "outputs": [],
   "source": [
    "from sklearn.preprocessing import StandardScaler\n",
    "scaler = StandardScaler()\n",
    "scaler.fit(trainX)\n",
    "\n",
    "\n",
    "# scale trainX, testX and valX\n",
    "trainX_scale = scaler.transform(trainX)\n",
    "valX_scale = scaler.transform(valX)"
   ]
  },
  {
   "cell_type": "markdown",
   "id": "02893e47",
   "metadata": {},
   "source": [
    "## 7. Training Models"
   ]
  },
  {
   "cell_type": "markdown",
   "id": "6cbc52c7",
   "metadata": {},
   "source": [
    "### 7.1 Function for Hyperparameter Tuning"
   ]
  },
  {
   "cell_type": "markdown",
   "id": "dd965bfa",
   "metadata": {},
   "source": [
    "**Hyperparameters Tuning** is a critical component of controlling the behavior of a machine learning model. If do not correctly tune hyperparameters, estimated model parameters produce suboptimal results because they do not minimize the loss function. This means that model has more flaws."
   ]
  },
  {
   "cell_type": "code",
   "execution_count": 20,
   "id": "8627a457",
   "metadata": {},
   "outputs": [],
   "source": [
    "def hyperParameterTuning(trainX, trainY, model, parameters):\n",
    "    # define search engine\n",
    "    gsearch = GridSearchCV(estimator = model,\n",
    "                           param_grid = parameters,                        \n",
    "                           scoring = metrics.make_scorer(metrics.f1_score),  \n",
    "                           cv = 5,\n",
    "                           n_jobs = -1,\n",
    "                           verbose = 1)\n",
    "    \n",
    "    # find parameters that produces best performance in f1-score\n",
    "    gsearch.fit(trainX, trainY)\n",
    "    print(\"Best parameters:\",gsearch.best_params_)"
   ]
  },
  {
   "cell_type": "markdown",
   "id": "4de5a7ca",
   "metadata": {},
   "source": [
    "Using GridSearchCV for finding the set of parameters that produces the best performance in f1-score. Cross validation method is used for finding the best set of parameters.\n",
    "\n",
    "\n",
    "- **estimator**: model for tuning\n",
    "\n",
    "- **param_grid**: set of parameters for tuning\n",
    "\n",
    "- **scoring**: evaluation metric (f1-score)\n",
    "\n",
    "- **cv**: cross validation (5-fold cross validation)"
   ]
  },
  {
   "cell_type": "markdown",
   "id": "2c82315c",
   "metadata": {},
   "source": [
    "### 7.2 Logistic Regression model with GridSearchCV"
   ]
  },
  {
   "cell_type": "markdown",
   "id": "9a809f38",
   "metadata": {},
   "source": [
    "**Logistic Regression** model is widely used in classification problems because it aims to minimize overfitting through regularization. The issue with Logistic Regression is the balance between bias and variance, which must be carefully considered. Hence, combined with **GridSearchCV** is a solution to the Logistic Regression problem that goes through each combination of every predefined element, validates the results, compares, and produces the best parameters for the models."
   ]
  },
  {
   "cell_type": "code",
   "execution_count": 21,
   "id": "9d85d19c",
   "metadata": {},
   "outputs": [],
   "source": [
    "# perform logistic regression\n",
    "from sklearn.linear_model import LogisticRegression\n",
    "from sklearn.model_selection import GridSearchCV\n",
    "from sklearn import metrics "
   ]
  },
  {
   "cell_type": "code",
   "execution_count": 22,
   "id": "6e92862a",
   "metadata": {},
   "outputs": [
    {
     "data": {
      "text/plain": [
       "LogisticRegression(class_weight='balanced')"
      ]
     },
     "execution_count": 22,
     "metadata": {},
     "output_type": "execute_result"
    }
   ],
   "source": [
    "# Basic model\n",
    "logReg = LogisticRegression(class_weight='balanced')\n",
    "logReg.fit(trainX_scale, trainY.to_numpy().ravel())"
   ]
  },
  {
   "cell_type": "code",
   "execution_count": 23,
   "id": "974daf4c",
   "metadata": {},
   "outputs": [
    {
     "name": "stdout",
     "output_type": "stream",
     "text": [
      "              precision    recall  f1-score   support\n",
      "\n",
      "           0       0.91      0.71      0.80        83\n",
      "           1       0.56      0.84      0.67        37\n",
      "\n",
      "    accuracy                           0.75       120\n",
      "   macro avg       0.74      0.77      0.74       120\n",
      "weighted avg       0.80      0.75      0.76       120\n",
      "\n"
     ]
    }
   ],
   "source": [
    "# measure performance on validation set\n",
    "preds = logReg.predict(valX_scale)\n",
    "print(metrics.classification_report(valY, preds))"
   ]
  },
  {
   "cell_type": "code",
   "execution_count": 28,
   "id": "0c6df69c",
   "metadata": {},
   "outputs": [
    {
     "name": "stdout",
     "output_type": "stream",
     "text": [
      "Fitting 5 folds for each of 375 candidates, totalling 1875 fits\n",
      "Best parameters: {'C': 10, 'class_weight': 'balanced', 'max_iter': 1, 'penalty': 'l2', 'solver': 'sag'}\n"
     ]
    },
    {
     "name": "stderr",
     "output_type": "stream",
     "text": [
      "C:\\Users\\rjich\\anaconda3\\lib\\site-packages\\sklearn\\model_selection\\_search.py:922: UserWarning: One or more of the test scores are non-finite: [       nan        nan 0.65803596        nan 0.64611407 0.65784525\n",
      " 0.65784525 0.66010289 0.62352604 0.66678101        nan        nan\n",
      "        nan        nan        nan        nan        nan 0.66786832\n",
      "        nan 0.66505484 0.66949218 0.67103483 0.65796762 0.64010336\n",
      " 0.65694723        nan        nan        nan        nan        nan\n",
      "        nan        nan 0.66079893        nan 0.66191819 0.65769853\n",
      " 0.65769853 0.65796762 0.65769853 0.65769853        nan        nan\n",
      "        nan        nan        nan        nan        nan 0.66079893\n",
      "        nan 0.66191819 0.65769853 0.65769853 0.65796762 0.65769853\n",
      " 0.65769853        nan        nan        nan        nan        nan\n",
      "        nan        nan 0.66079893        nan 0.66191819 0.65769853\n",
      " 0.65769853 0.65796762 0.65769853 0.65769853        nan        nan\n",
      "        nan        nan        nan        nan        nan 0.65285052\n",
      "        nan 0.66518147 0.65784525 0.65784525 0.65327843 0.65778289\n",
      " 0.6324105         nan        nan        nan        nan        nan\n",
      "        nan        nan 0.65791551        nan 0.6358838  0.66637316\n",
      " 0.66761719 0.65841634 0.66372833 0.65317352        nan        nan\n",
      "        nan        nan        nan        nan        nan 0.67017555\n",
      "        nan 0.66610809 0.66610809 0.66610809 0.66610809 0.66610809\n",
      " 0.66610809        nan        nan        nan        nan        nan\n",
      "        nan        nan 0.67017555        nan 0.66610809 0.66610809\n",
      " 0.66610809 0.66610809 0.66610809 0.66610809        nan        nan\n",
      "        nan        nan        nan        nan        nan 0.67017555\n",
      "        nan 0.66610809 0.66610809 0.66610809 0.66610809 0.66610809\n",
      " 0.66610809        nan        nan        nan        nan        nan\n",
      "        nan        nan 0.65270852        nan 0.63973185 0.65784525\n",
      " 0.65784525 0.65479001 0.67648247 0.66772473        nan        nan\n",
      "        nan        nan        nan        nan        nan 0.66604866\n",
      "        nan 0.6723191  0.66637316 0.66761719 0.66335461 0.60287271\n",
      " 0.66568903        nan        nan        nan        nan        nan\n",
      "        nan        nan 0.6643537         nan 0.6643537  0.6643537\n",
      " 0.6643537  0.6643537  0.6643537  0.6643537         nan        nan\n",
      "        nan        nan        nan        nan        nan 0.6643537\n",
      "        nan 0.6643537  0.6643537  0.6643537  0.6643537  0.6643537\n",
      " 0.6643537         nan        nan        nan        nan        nan\n",
      "        nan        nan 0.6643537         nan 0.6643537  0.6643537\n",
      " 0.6643537  0.6643537  0.6643537  0.6643537         nan        nan\n",
      "        nan        nan        nan        nan        nan 0.64431591\n",
      "        nan 0.65624709 0.65784525 0.65784525 0.65479001 0.6472987\n",
      " 0.65901284        nan        nan        nan        nan        nan\n",
      "        nan        nan 0.66354864        nan 0.65772982 0.66637316\n",
      " 0.66761719 0.66335461 0.64742868 0.6627889         nan        nan\n",
      "        nan        nan        nan        nan        nan 0.6643537\n",
      "        nan 0.6643537  0.6643537  0.6643537  0.6643537  0.6643537\n",
      " 0.6643537         nan        nan        nan        nan        nan\n",
      "        nan        nan 0.6643537         nan 0.6643537  0.6643537\n",
      " 0.6643537  0.6643537  0.6643537  0.6643537         nan        nan\n",
      "        nan        nan        nan        nan        nan 0.6643537\n",
      "        nan 0.6643537  0.6643537  0.6643537  0.6643537  0.6643537\n",
      " 0.6643537         nan        nan        nan        nan        nan\n",
      "        nan        nan 0.64583617        nan 0.62852049 0.65784525\n",
      " 0.65784525 0.65479001 0.62879777 0.66133366        nan        nan\n",
      "        nan        nan        nan        nan        nan 0.65840628\n",
      "        nan 0.6578108  0.66637316 0.66761719 0.66335461 0.64545435\n",
      " 0.65748346        nan        nan        nan        nan        nan\n",
      "        nan        nan 0.6643537         nan 0.6643537  0.6643537\n",
      " 0.6643537  0.6643537  0.6643537  0.6643537         nan        nan\n",
      "        nan        nan        nan        nan        nan 0.6643537\n",
      "        nan 0.6643537  0.6643537  0.6643537  0.6643537  0.6643537\n",
      " 0.6643537         nan        nan        nan        nan        nan\n",
      "        nan        nan 0.6643537         nan 0.6643537  0.6643537\n",
      " 0.6643537  0.6643537  0.6643537  0.6643537         nan        nan\n",
      "        nan        nan        nan]\n",
      "  warnings.warn(\n",
      "C:\\Users\\rjich\\anaconda3\\lib\\site-packages\\sklearn\\linear_model\\_sag.py:328: ConvergenceWarning: The max_iter was reached which means the coef_ did not converge\n",
      "  warnings.warn(\"The max_iter was reached which means \"\n"
     ]
    }
   ],
   "source": [
    "# hyperparameters tuning for Logistic Regression\n",
    "logRegParameters = {'C':         [0.1, 1, 10, 100, 1000],\n",
    "                    'penalty':  ['l1', 'l2', 'elasticnet'], \n",
    "                    'max_iter': [1, 2, 100, 500, 1000],\n",
    "                    'solver':   ['newton-cg', 'lbfgs', 'liblinear', 'sag', 'saga'],\n",
    "                    'class_weight':['balanced']}\n",
    "\n",
    "# perform hyperparameter tuning, only run once for result\n",
    "hyperParameterTuning(trainX_scale, trainY.to_numpy().ravel(), LogisticRegression(), logRegParameters)"
   ]
  },
  {
   "cell_type": "markdown",
   "id": "516118dc",
   "metadata": {},
   "source": [
    "#### Parameters:\n",
    "\n",
    "**C**: Inverse of regularization strength.\n",
    "\n",
    "**penalty**: Type of regularization.\n",
    "\n",
    "**max_iter**: Maximum number of iterations taken for the solvers to converge.\n",
    "\n",
    "**solver**: Algorithm to use in the optimization problem."
   ]
  },
  {
   "cell_type": "markdown",
   "id": "29dbd574",
   "metadata": {},
   "source": [
    "#### Output:\n",
    "Best parameters: {'C': 10, 'max_iter': 1, 'penalty': 'l2', 'solver': 'sag'}\n",
    "\n",
    "**=>** penalty = l2, it means that using **Ridge Regression** as known as **L2 Logistic Regression**"
   ]
  },
  {
   "cell_type": "code",
   "execution_count": 29,
   "id": "2e13e3a5",
   "metadata": {},
   "outputs": [
    {
     "name": "stdout",
     "output_type": "stream",
     "text": [
      "              precision    recall  f1-score   support\n",
      "\n",
      "           0       0.90      0.66      0.76        83\n",
      "           1       0.53      0.84      0.65        37\n",
      "\n",
      "    accuracy                           0.72       120\n",
      "   macro avg       0.71      0.75      0.70       120\n",
      "weighted avg       0.79      0.72      0.73       120\n",
      "\n"
     ]
    },
    {
     "name": "stderr",
     "output_type": "stream",
     "text": [
      "C:\\Users\\rjich\\anaconda3\\lib\\site-packages\\sklearn\\linear_model\\_sag.py:328: ConvergenceWarning: The max_iter was reached which means the coef_ did not converge\n",
      "  warnings.warn(\"The max_iter was reached which means \"\n"
     ]
    }
   ],
   "source": [
    "# train logistic regression model again with the new set of parameters\n",
    "logReg = LogisticRegression(C=10, \n",
    "                            max_iter= 1, \n",
    "                            penalty= 'l2', \n",
    "                            solver= 'sag',\n",
    "                            class_weight = 'balanced')\n",
    "logReg.fit(trainX_scale, trainY.to_numpy().ravel())\n",
    "\n",
    "# measure performance on validation set\n",
    "preds = logReg.predict(valX_scale)\n",
    "print(metrics.classification_report(valY, preds))"
   ]
  },
  {
   "cell_type": "markdown",
   "id": "22d7b2cd",
   "metadata": {},
   "source": [
    "**Conclusion**: There are not improvement in the performance after Hyperparameter Tuning"
   ]
  },
  {
   "cell_type": "code",
   "execution_count": 30,
   "id": "ccb00a1e",
   "metadata": {},
   "outputs": [
    {
     "data": {
      "image/png": "[encoded data removed]",
      "text/plain": [
       "<Figure size 432x288 with 2 Axes>"
      ]
     },
     "metadata": {
      "needs_background": "light"
     },
     "output_type": "display_data"
    }
   ],
   "source": [
    "from sklearn.metrics import plot_confusion_matrix\n",
    "\n",
    "disp = plot_confusion_matrix(logReg, valX_scale, valY,\n",
    "                                 cmap=plt.cm.Blues)\n",
    "plt.title(\"Logistic Regression\")\n",
    "plt.show()"
   ]
  },
  {
   "cell_type": "markdown",
   "id": "1c0b33ef",
   "metadata": {},
   "source": [
    "### 7.3 Decision Tree Classifier with GridSearchCV"
   ]
  },
  {
   "cell_type": "markdown",
   "id": "47137e03",
   "metadata": {},
   "source": [
    "**Decision Tree model** is simple to implement and does not necessitate much effort in terms of data preparation, normalization, and scaling. However, the tree is inconsistent when a small change in a tree can result in a significant change in a tree's structure, resulting in a high variance. The tree's algorithms are such that they will go deep into the tree to find the leaf of the tree, increasing the complexity of the tree and causing the overfitting problem. Since the decision tree model has a high variance, overfitting is likely to occur. Therefore, combined with **GridSearchCV** will attempt to find the optimal parameter to lessen the overfitting problem and thus reduce the model's variance."
   ]
  },
  {
   "cell_type": "code",
   "execution_count": 31,
   "id": "8e470bab",
   "metadata": {},
   "outputs": [
    {
     "data": {
      "text/plain": [
       "DecisionTreeClassifier(class_weight='balanced', criterion='entropy')"
      ]
     },
     "execution_count": 31,
     "metadata": {},
     "output_type": "execute_result"
    }
   ],
   "source": [
    "from sklearn.tree import DecisionTreeClassifier\n",
    "\n",
    "# train basic decision tree classifier model\n",
    "decTree = DecisionTreeClassifier(criterion = 'entropy',class_weight='balanced')\n",
    "decTree.fit(trainX_scale, trainY.to_numpy().ravel())"
   ]
  },
  {
   "cell_type": "code",
   "execution_count": 32,
   "id": "23dfe35b",
   "metadata": {},
   "outputs": [
    {
     "name": "stdout",
     "output_type": "stream",
     "text": [
      "              precision    recall  f1-score   support\n",
      "\n",
      "           0       0.84      0.73      0.78        83\n",
      "           1       0.53      0.68      0.60        37\n",
      "\n",
      "    accuracy                           0.72       120\n",
      "   macro avg       0.68      0.71      0.69       120\n",
      "weighted avg       0.74      0.72      0.72       120\n",
      "\n"
     ]
    }
   ],
   "source": [
    "# measure performance on validation set\n",
    "preds = decTree.predict(valX_scale)\n",
    "print(metrics.classification_report(valY, preds))"
   ]
  },
  {
   "cell_type": "code",
   "execution_count": 33,
   "id": "ecab404c",
   "metadata": {},
   "outputs": [
    {
     "name": "stdout",
     "output_type": "stream",
     "text": [
      "Fitting 5 folds for each of 192 candidates, totalling 960 fits\n",
      "Best parameters: {'class_weight': 'balanced', 'criterion': 'entropy', 'max_depth': 5, 'min_samples_leaf': 1, 'min_samples_split': 100}\n"
     ]
    }
   ],
   "source": [
    "# Hyperparameters tuning for Decision Tree\n",
    "decTreeParameters = {'criterion':        ['gini','entropy'],\n",
    "                    'max_depth':         [5, 8, 15, 25, 30, 38],\n",
    "                    'min_samples_split': [2, 15, 50, 100],\n",
    "                    'min_samples_leaf':  [1, 10, 50, 100],\n",
    "                    'class_weight':      ['balanced']}\n",
    "\n",
    "# perform hyperparameter tuning, only run once for result\n",
    "hyperParameterTuning(trainX_scale, trainY.to_numpy().ravel(), DecisionTreeClassifier(), decTreeParameters)"
   ]
  },
  {
   "cell_type": "code",
   "execution_count": 34,
   "id": "8866015e",
   "metadata": {},
   "outputs": [
    {
     "data": {
      "text/plain": [
       "DecisionTreeClassifier(class_weight='balanced', criterion='entropy',\n",
       "                       max_depth=5, min_samples_split=100)"
      ]
     },
     "execution_count": 34,
     "metadata": {},
     "output_type": "execute_result"
    }
   ],
   "source": [
    "# train decision tree classifier model again with new set of parameters\n",
    "decTree = DecisionTreeClassifier(criterion='entropy', \n",
    "                                max_depth=5,\n",
    "                                min_samples_leaf=1,\n",
    "                                min_samples_split=100,\n",
    "                                class_weight='balanced')\n",
    "\n",
    "decTree.fit(trainX_scale, trainY.to_numpy().ravel())"
   ]
  },
  {
   "cell_type": "code",
   "execution_count": 35,
   "id": "b5e3a98c",
   "metadata": {},
   "outputs": [
    {
     "name": "stdout",
     "output_type": "stream",
     "text": [
      "              precision    recall  f1-score   support\n",
      "\n",
      "           0       0.90      0.72      0.80        83\n",
      "           1       0.57      0.81      0.67        37\n",
      "\n",
      "    accuracy                           0.75       120\n",
      "   macro avg       0.73      0.77      0.73       120\n",
      "weighted avg       0.79      0.75      0.76       120\n",
      "\n"
     ]
    }
   ],
   "source": [
    "# measure performance on validation set\n",
    "preds = decTree.predict(valX_scale)\n",
    "print(metrics.classification_report(valY, preds))"
   ]
  },
  {
   "cell_type": "markdown",
   "id": "ea2fcf91",
   "metadata": {},
   "source": [
    "**Conclusion**: There are a lot improvements,especially precision and f1-score, for the model after applying Hyperparameter Tuning."
   ]
  },
  {
   "cell_type": "code",
   "execution_count": 36,
   "id": "9c91db3e",
   "metadata": {},
   "outputs": [
    {
     "data": {
      "image/png": "[encoded data removed]",
      "text/plain": [
       "<Figure size 432x288 with 2 Axes>"
      ]
     },
     "metadata": {
      "needs_background": "light"
     },
     "output_type": "display_data"
    }
   ],
   "source": [
    "from sklearn.metrics import plot_confusion_matrix\n",
    "\n",
    "disp = plot_confusion_matrix(decTree, valX_scale, valY,\n",
    "                                 cmap=plt.cm.Greens)\n",
    "plt.title(\"Decision Tree\")\n",
    "plt.show()"
   ]
  },
  {
   "cell_type": "markdown",
   "id": "b52a8541",
   "metadata": {},
   "source": [
    "### 7.4 Random Forest with GridsSearchCV"
   ]
  },
  {
   "cell_type": "markdown",
   "id": "76bab4eb",
   "metadata": {},
   "source": [
    "**Random Forest model** is a collection of decision trees that work together to solve the overfitting problem. When compared to a decision tree, it has lower variance and better predictability. The random forest, like the decision tree, is unaffected by missing or scailing data and normalizing data. On the other hand, because it is a collection of many decision trees, the random forest's complexity is unavoidable. However, the prediction time is extremely long. **GridSearchCV** plays a role in determining the best way to find the optimal number of trees for the model as well as the other parameters."
   ]
  },
  {
   "cell_type": "code",
   "execution_count": 37,
   "id": "8697aa21",
   "metadata": {},
   "outputs": [
    {
     "data": {
      "text/plain": [
       "RandomForestClassifier(class_weight='balanced')"
      ]
     },
     "execution_count": 37,
     "metadata": {},
     "output_type": "execute_result"
    }
   ],
   "source": [
    "from sklearn.ensemble import RandomForestClassifier\n",
    "\n",
    "# train basic random forest classifier model\n",
    "ranForest = RandomForestClassifier(class_weight='balanced')\n",
    "ranForest.fit(trainX_scale, trainY.to_numpy().ravel())"
   ]
  },
  {
   "cell_type": "code",
   "execution_count": 38,
   "id": "62f28496",
   "metadata": {},
   "outputs": [
    {
     "name": "stdout",
     "output_type": "stream",
     "text": [
      "              precision    recall  f1-score   support\n",
      "\n",
      "           0       0.90      0.72      0.80        83\n",
      "           1       0.57      0.81      0.67        37\n",
      "\n",
      "    accuracy                           0.75       120\n",
      "   macro avg       0.73      0.77      0.73       120\n",
      "weighted avg       0.79      0.75      0.76       120\n",
      "\n"
     ]
    }
   ],
   "source": [
    "# measure performance on validation set\n",
    "preds = decTree.predict(valX_scale)\n",
    "print(metrics.classification_report(valY, preds))"
   ]
  },
  {
   "cell_type": "code",
   "execution_count": 39,
   "id": "9d89b603",
   "metadata": {},
   "outputs": [
    {
     "name": "stdout",
     "output_type": "stream",
     "text": [
      "Fitting 5 folds for each of 36 candidates, totalling 180 fits\n",
      "Best parameters: {'bootstrap': 'True', 'class_weight': 'balanced', 'criterion': 'gini', 'max_depth': 5, 'max_features': 'log2', 'n_estimators': 10}\n"
     ]
    }
   ],
   "source": [
    "# Hyperparameters tuning for Random Forest\n",
    "ranForestParameters = {'criterion':        ['gini','entropy'],\n",
    "                    'bootstrap':         ['True'],\n",
    "                    'max_depth':         [3, 5, 10],\n",
    "                    'max_features':      ['sqrt', 'log2'],\n",
    "                    'n_estimators':      [ 10 , 50, 100 ],\n",
    "                    'class_weight':      ['balanced']}\n",
    "\n",
    "# perform hyperparameter tuning, only run once for result\n",
    "hyperParameterTuning(trainX_scale, trainY.to_numpy().ravel(), RandomForestClassifier(), ranForestParameters)"
   ]
  },
  {
   "cell_type": "code",
   "execution_count": 40,
   "id": "521be621",
   "metadata": {},
   "outputs": [
    {
     "data": {
      "text/plain": [
       "RandomForestClassifier(bootstrap='True', class_weight='balanced', max_depth=5,\n",
       "                       max_features='log2', n_estimators=10)"
      ]
     },
     "execution_count": 40,
     "metadata": {},
     "output_type": "execute_result"
    }
   ],
   "source": [
    "# train decision tree classifier model again with new set of parameters\n",
    "ranForest = RandomForestClassifier(criterion='gini', \n",
    "                                bootstrap='True',\n",
    "                                max_depth=5,\n",
    "                                max_features='log2',\n",
    "                                n_estimators=10,\n",
    "                                class_weight='balanced')\n",
    "\n",
    "ranForest.fit(trainX_scale, trainY.to_numpy().ravel())"
   ]
  },
  {
   "cell_type": "code",
   "execution_count": 41,
   "id": "6482ec12",
   "metadata": {},
   "outputs": [
    {
     "name": "stdout",
     "output_type": "stream",
     "text": [
      "              precision    recall  f1-score   support\n",
      "\n",
      "           0       0.92      0.67      0.78        83\n",
      "           1       0.54      0.86      0.67        37\n",
      "\n",
      "    accuracy                           0.73       120\n",
      "   macro avg       0.73      0.77      0.72       120\n",
      "weighted avg       0.80      0.73      0.74       120\n",
      "\n"
     ]
    }
   ],
   "source": [
    "# measure performance on validation set\n",
    "preds = ranForest.predict(valX_scale)\n",
    "print(metrics.classification_report(valY, preds))"
   ]
  },
  {
   "cell_type": "markdown",
   "id": "6c107986",
   "metadata": {},
   "source": [
    "**Conclusion**: There are nothing much improved."
   ]
  },
  {
   "cell_type": "code",
   "execution_count": 42,
   "id": "ead5d5cb",
   "metadata": {},
   "outputs": [
    {
     "data": {
      "image/png": "[encoded data removed]",
      "text/plain": [
       "<Figure size 432x288 with 2 Axes>"
      ]
     },
     "metadata": {
      "needs_background": "light"
     },
     "output_type": "display_data"
    }
   ],
   "source": [
    "from sklearn.metrics import plot_confusion_matrix\n",
    "\n",
    "disp = plot_confusion_matrix(ranForest, valX_scale, valY,\n",
    "                                 cmap=plt.cm.Reds)\n",
    "plt.title(\"Random Forest\")\n",
    "plt.show()"
   ]
  },
  {
   "cell_type": "markdown",
   "id": "6700f2ce",
   "metadata": {},
   "source": [
    "## 8. Comparing Models for Prediction"
   ]
  },
  {
   "cell_type": "code",
   "execution_count": 43,
   "id": "4c7ffc56",
   "metadata": {},
   "outputs": [],
   "source": [
    "# test hyperparameters tuned models with test set\n",
    "logRegPreds = logReg.predict(valX_scale)\n",
    "decTreePreds = decTree.predict(valX_scale)\n",
    "ranForestPreds = ranForest.predict(valX_scale)"
   ]
  },
  {
   "cell_type": "code",
   "execution_count": 44,
   "id": "568a1cd8",
   "metadata": {},
   "outputs": [
    {
     "name": "stdout",
     "output_type": "stream",
     "text": [
      "Logistic Regression\n",
      "              precision    recall  f1-score   support\n",
      "\n",
      "           0       0.90      0.66      0.76        83\n",
      "           1       0.53      0.84      0.65        37\n",
      "\n",
      "    accuracy                           0.72       120\n",
      "   macro avg       0.71      0.75      0.70       120\n",
      "weighted avg       0.79      0.72      0.73       120\n",
      " \n",
      "\n",
      "Decision Tree Classification\n",
      "              precision    recall  f1-score   support\n",
      "\n",
      "           0       0.90      0.72      0.80        83\n",
      "           1       0.57      0.81      0.67        37\n",
      "\n",
      "    accuracy                           0.75       120\n",
      "   macro avg       0.73      0.77      0.73       120\n",
      "weighted avg       0.79      0.75      0.76       120\n",
      " \n",
      "\n",
      "Random Forrest Classification\n",
      "              precision    recall  f1-score   support\n",
      "\n",
      "           0       0.92      0.67      0.78        83\n",
      "           1       0.54      0.86      0.67        37\n",
      "\n",
      "    accuracy                           0.73       120\n",
      "   macro avg       0.73      0.77      0.72       120\n",
      "weighted avg       0.80      0.73      0.74       120\n",
      " \n",
      "\n"
     ]
    }
   ],
   "source": [
    "# print results\n",
    "print(\"Logistic Regression\")\n",
    "print(metrics.classification_report(valY, logRegPreds), '\\n')\n",
    "print(\"Decision Tree Classification\")\n",
    "print(metrics.classification_report(valY, decTreePreds), '\\n')\n",
    "print(\"Random Forrest Classification\")\n",
    "print(metrics.classification_report(valY, ranForestPreds), '\\n')"
   ]
  },
  {
   "cell_type": "markdown",
   "id": "9cd283ee",
   "metadata": {},
   "source": [
    "**Ultimate Judgment:**\n",
    "- Based on the table Comparing Models above, it showed that **Decision Tree** has an efficient performance in making prediction.\n",
    "- Because it has the number negative sepssis of patients being clasified accurately at class 0 has an precision 0.90 which is a high score which can be accepted to predict compared with **Logistic Regression** ( class0 precision: 90) and **Random Forest** (class0 precision: 92). **Decision Tree** also has a highest score in clasified accurately at class 1 has an precision 0.57 while the remaining models are 0.53 and 0.54 respectively.\n",
    "- Besides that, model **Decision Tree** has the good performance score for both class 0 and 1 in recall which are 0.72 and 0.81 respectively. Meanwhile, both **Logistic Regression** and **Random Forest** had the recall score for class 0 under 0.70.\n",
    "- Furthermore, the higher the value of the f1-score, the better the balance between the precision and the recall score. Model **Decision Tree** also had the highest score for both class 0 and class 1 so it had the better balance.\n",
    "\n",
    "**=> Conclusion:** Choosing **Decision Tree** model to predict."
   ]
  },
  {
   "cell_type": "markdown",
   "id": "603b00f0",
   "metadata": {},
   "source": [
    "## 9. Applying Model with Test Dataset"
   ]
  },
  {
   "cell_type": "markdown",
   "id": "412d0632",
   "metadata": {},
   "source": [
    "### 9.1 Import test dataset"
   ]
  },
  {
   "cell_type": "code",
   "execution_count": 123,
   "id": "325be46f",
   "metadata": {},
   "outputs": [],
   "source": [
    "# read test data for prediction\n",
    "testData = pd.read_csv(\"Paitients_Files_Test.csv\",\n",
    "                      delimiter=\",\")\n",
    "\n",
    "# create submission dataFrame for storing predictions\n",
    "submission = pd.DataFrame(columns=['ID','Sepssis'])\n",
    "submission['ID'] = testData['ID']\n",
    "\n",
    "# drop ID and Insurance column in test dataset\n",
    "testData = testData.drop(['ID', 'Insurance'], axis='columns')"
   ]
  },
  {
   "cell_type": "code",
   "execution_count": 124,
   "id": "3437c8ec",
   "metadata": {},
   "outputs": [
    {
     "data": {
      "text/html": [
       "<div>\n",
       "<style scoped>\n",
       "    .dataframe tbody tr th:only-of-type {\n",
       "        vertical-align: middle;\n",
       "    }\n",
       "\n",
       "    .dataframe tbody tr th {\n",
       "        vertical-align: top;\n",
       "    }\n",
       "\n",
       "    .dataframe thead th {\n",
       "        text-align: right;\n",
       "    }\n",
       "</style>\n",
       "<table border=\"1\" class=\"dataframe\">\n",
       "  <thead>\n",
       "    <tr style=\"text-align: right;\">\n",
       "      <th></th>\n",
       "      <th>PRG</th>\n",
       "      <th>PL</th>\n",
       "      <th>PR</th>\n",
       "      <th>SK</th>\n",
       "      <th>TS</th>\n",
       "      <th>M11</th>\n",
       "      <th>BD2</th>\n",
       "      <th>Age</th>\n",
       "    </tr>\n",
       "  </thead>\n",
       "  <tbody>\n",
       "    <tr>\n",
       "      <th>0</th>\n",
       "      <td>1</td>\n",
       "      <td>109</td>\n",
       "      <td>38</td>\n",
       "      <td>18</td>\n",
       "      <td>120</td>\n",
       "      <td>23.1</td>\n",
       "      <td>0.407</td>\n",
       "      <td>26</td>\n",
       "    </tr>\n",
       "    <tr>\n",
       "      <th>1</th>\n",
       "      <td>1</td>\n",
       "      <td>108</td>\n",
       "      <td>88</td>\n",
       "      <td>19</td>\n",
       "      <td>0</td>\n",
       "      <td>27.1</td>\n",
       "      <td>0.400</td>\n",
       "      <td>24</td>\n",
       "    </tr>\n",
       "    <tr>\n",
       "      <th>2</th>\n",
       "      <td>6</td>\n",
       "      <td>96</td>\n",
       "      <td>0</td>\n",
       "      <td>0</td>\n",
       "      <td>0</td>\n",
       "      <td>23.7</td>\n",
       "      <td>0.190</td>\n",
       "      <td>28</td>\n",
       "    </tr>\n",
       "    <tr>\n",
       "      <th>3</th>\n",
       "      <td>1</td>\n",
       "      <td>124</td>\n",
       "      <td>74</td>\n",
       "      <td>36</td>\n",
       "      <td>0</td>\n",
       "      <td>27.8</td>\n",
       "      <td>0.100</td>\n",
       "      <td>30</td>\n",
       "    </tr>\n",
       "    <tr>\n",
       "      <th>4</th>\n",
       "      <td>7</td>\n",
       "      <td>150</td>\n",
       "      <td>78</td>\n",
       "      <td>29</td>\n",
       "      <td>126</td>\n",
       "      <td>35.2</td>\n",
       "      <td>0.692</td>\n",
       "      <td>54</td>\n",
       "    </tr>\n",
       "    <tr>\n",
       "      <th>...</th>\n",
       "      <td>...</td>\n",
       "      <td>...</td>\n",
       "      <td>...</td>\n",
       "      <td>...</td>\n",
       "      <td>...</td>\n",
       "      <td>...</td>\n",
       "      <td>...</td>\n",
       "      <td>...</td>\n",
       "    </tr>\n",
       "    <tr>\n",
       "      <th>164</th>\n",
       "      <td>10</td>\n",
       "      <td>101</td>\n",
       "      <td>76</td>\n",
       "      <td>48</td>\n",
       "      <td>180</td>\n",
       "      <td>32.9</td>\n",
       "      <td>0.171</td>\n",
       "      <td>63</td>\n",
       "    </tr>\n",
       "    <tr>\n",
       "      <th>165</th>\n",
       "      <td>2</td>\n",
       "      <td>122</td>\n",
       "      <td>70</td>\n",
       "      <td>27</td>\n",
       "      <td>0</td>\n",
       "      <td>36.8</td>\n",
       "      <td>0.340</td>\n",
       "      <td>27</td>\n",
       "    </tr>\n",
       "    <tr>\n",
       "      <th>166</th>\n",
       "      <td>5</td>\n",
       "      <td>121</td>\n",
       "      <td>72</td>\n",
       "      <td>23</td>\n",
       "      <td>112</td>\n",
       "      <td>26.2</td>\n",
       "      <td>0.245</td>\n",
       "      <td>30</td>\n",
       "    </tr>\n",
       "    <tr>\n",
       "      <th>167</th>\n",
       "      <td>1</td>\n",
       "      <td>126</td>\n",
       "      <td>60</td>\n",
       "      <td>0</td>\n",
       "      <td>0</td>\n",
       "      <td>30.1</td>\n",
       "      <td>0.349</td>\n",
       "      <td>47</td>\n",
       "    </tr>\n",
       "    <tr>\n",
       "      <th>168</th>\n",
       "      <td>1</td>\n",
       "      <td>93</td>\n",
       "      <td>70</td>\n",
       "      <td>31</td>\n",
       "      <td>0</td>\n",
       "      <td>30.4</td>\n",
       "      <td>0.315</td>\n",
       "      <td>23</td>\n",
       "    </tr>\n",
       "  </tbody>\n",
       "</table>\n",
       "<p>169 rows × 8 columns</p>\n",
       "</div>"
      ],
      "text/plain": [
       "     PRG   PL  PR  SK   TS   M11    BD2  Age\n",
       "0      1  109  38  18  120  23.1  0.407   26\n",
       "1      1  108  88  19    0  27.1  0.400   24\n",
       "2      6   96   0   0    0  23.7  0.190   28\n",
       "3      1  124  74  36    0  27.8  0.100   30\n",
       "4      7  150  78  29  126  35.2  0.692   54\n",
       "..   ...  ...  ..  ..  ...   ...    ...  ...\n",
       "164   10  101  76  48  180  32.9  0.171   63\n",
       "165    2  122  70  27    0  36.8  0.340   27\n",
       "166    5  121  72  23  112  26.2  0.245   30\n",
       "167    1  126  60   0    0  30.1  0.349   47\n",
       "168    1   93  70  31    0  30.4  0.315   23\n",
       "\n",
       "[169 rows x 8 columns]"
      ]
     },
     "execution_count": 124,
     "metadata": {},
     "output_type": "execute_result"
    }
   ],
   "source": [
    "#Check testData\n",
    "testData"
   ]
  },
  {
   "cell_type": "markdown",
   "id": "0953834a",
   "metadata": {},
   "source": [
    "### 9.2 Scaling Data"
   ]
  },
  {
   "cell_type": "code",
   "execution_count": 125,
   "id": "be346373",
   "metadata": {},
   "outputs": [],
   "source": [
    "from sklearn.preprocessing import StandardScaler\n",
    "scaler = StandardScaler()\n",
    "scaler.fit(testData)\n",
    "\n",
    "# scale newDataFrameToTrain\n",
    "testData = scaler.transform(testData)"
   ]
  },
  {
   "cell_type": "markdown",
   "id": "8049476f",
   "metadata": {},
   "source": [
    "### 9.3 Make Prediction with the selected Model"
   ]
  },
  {
   "cell_type": "code",
   "execution_count": 113,
   "id": "b2c8b18f",
   "metadata": {},
   "outputs": [],
   "source": [
    "predictSepssis = decTree.predict(testData)"
   ]
  },
  {
   "cell_type": "code",
   "execution_count": 114,
   "id": "11e77861",
   "metadata": {},
   "outputs": [
    {
     "data": {
      "text/plain": [
       "array([0, 0, 0, 1, 1, 1, 0, 1, 0, 0, 0, 0, 1, 1, 0, 1, 0, 1, 0, 1, 0, 0,\n",
       "       0, 1, 0, 0, 0, 0, 0, 1, 0, 1, 0, 0, 0, 0, 0, 0, 0, 0, 0, 0, 0, 1,\n",
       "       0, 0, 1, 0, 1, 1, 0, 0, 0, 0, 0, 0, 0, 0, 1, 1, 0, 1, 1, 1, 1, 1,\n",
       "       0, 0, 1, 0, 1, 1, 0, 0, 0, 0, 1, 0, 0, 0, 0, 0, 1, 0, 0, 0, 0, 0,\n",
       "       1, 0, 1, 0, 1, 0, 1, 0, 1, 1, 0, 0, 0, 0, 1, 1, 1, 0, 0, 0, 0, 1,\n",
       "       0, 1, 1, 1, 0, 0, 1, 1, 0, 0, 0, 0, 0, 1, 1, 1, 1, 0, 0, 0, 0, 1,\n",
       "       0, 1, 0, 0, 0, 0, 0, 0, 0, 1, 0, 0, 1, 1, 0, 0, 0, 1, 0, 0, 0, 0,\n",
       "       1, 1, 1, 1, 1, 0, 1, 0, 1, 0, 0, 0, 0, 1, 0], dtype=uint8)"
      ]
     },
     "execution_count": 114,
     "metadata": {},
     "output_type": "execute_result"
    }
   ],
   "source": [
    "predictSepssis"
   ]
  },
  {
   "cell_type": "code",
   "execution_count": 126,
   "id": "336f1b9b",
   "metadata": {},
   "outputs": [],
   "source": [
    "#Add data into Sepssis column of submission dataframe to export file predict\n",
    "submission['Sepssis'] = predictSepssis"
   ]
  },
  {
   "cell_type": "code",
   "execution_count": 127,
   "id": "8199694e",
   "metadata": {},
   "outputs": [
    {
     "data": {
      "text/html": [
       "<div>\n",
       "<style scoped>\n",
       "    .dataframe tbody tr th:only-of-type {\n",
       "        vertical-align: middle;\n",
       "    }\n",
       "\n",
       "    .dataframe tbody tr th {\n",
       "        vertical-align: top;\n",
       "    }\n",
       "\n",
       "    .dataframe thead th {\n",
       "        text-align: right;\n",
       "    }\n",
       "</style>\n",
       "<table border=\"1\" class=\"dataframe\">\n",
       "  <thead>\n",
       "    <tr style=\"text-align: right;\">\n",
       "      <th></th>\n",
       "      <th>ID</th>\n",
       "      <th>Sepssis</th>\n",
       "    </tr>\n",
       "  </thead>\n",
       "  <tbody>\n",
       "    <tr>\n",
       "      <th>0</th>\n",
       "      <td>ICU200609</td>\n",
       "      <td>0</td>\n",
       "    </tr>\n",
       "    <tr>\n",
       "      <th>1</th>\n",
       "      <td>ICU200610</td>\n",
       "      <td>0</td>\n",
       "    </tr>\n",
       "    <tr>\n",
       "      <th>2</th>\n",
       "      <td>ICU200611</td>\n",
       "      <td>0</td>\n",
       "    </tr>\n",
       "    <tr>\n",
       "      <th>3</th>\n",
       "      <td>ICU200612</td>\n",
       "      <td>1</td>\n",
       "    </tr>\n",
       "    <tr>\n",
       "      <th>4</th>\n",
       "      <td>ICU200613</td>\n",
       "      <td>1</td>\n",
       "    </tr>\n",
       "    <tr>\n",
       "      <th>...</th>\n",
       "      <td>...</td>\n",
       "      <td>...</td>\n",
       "    </tr>\n",
       "    <tr>\n",
       "      <th>164</th>\n",
       "      <td>ICU200773</td>\n",
       "      <td>0</td>\n",
       "    </tr>\n",
       "    <tr>\n",
       "      <th>165</th>\n",
       "      <td>ICU200774</td>\n",
       "      <td>0</td>\n",
       "    </tr>\n",
       "    <tr>\n",
       "      <th>166</th>\n",
       "      <td>ICU200775</td>\n",
       "      <td>0</td>\n",
       "    </tr>\n",
       "    <tr>\n",
       "      <th>167</th>\n",
       "      <td>ICU200776</td>\n",
       "      <td>1</td>\n",
       "    </tr>\n",
       "    <tr>\n",
       "      <th>168</th>\n",
       "      <td>ICU200777</td>\n",
       "      <td>0</td>\n",
       "    </tr>\n",
       "  </tbody>\n",
       "</table>\n",
       "<p>169 rows × 2 columns</p>\n",
       "</div>"
      ],
      "text/plain": [
       "            ID  Sepssis\n",
       "0    ICU200609        0\n",
       "1    ICU200610        0\n",
       "2    ICU200611        0\n",
       "3    ICU200612        1\n",
       "4    ICU200613        1\n",
       "..         ...      ...\n",
       "164  ICU200773        0\n",
       "165  ICU200774        0\n",
       "166  ICU200775        0\n",
       "167  ICU200776        1\n",
       "168  ICU200777        0\n",
       "\n",
       "[169 rows x 2 columns]"
      ]
     },
     "execution_count": 127,
     "metadata": {},
     "output_type": "execute_result"
    }
   ],
   "source": [
    "#Check data inside dataframe\n",
    "submission"
   ]
  },
  {
   "cell_type": "code",
   "execution_count": 128,
   "id": "1477cc3b",
   "metadata": {},
   "outputs": [
    {
     "data": {
      "image/png": "[encoded data removed]",
      "text/plain": [
       "<Figure size 432x288 with 1 Axes>"
      ]
     },
     "metadata": {
      "needs_background": "light"
     },
     "output_type": "display_data"
    },
    {
     "data": {
      "text/plain": [
       "<Figure size 432x288 with 0 Axes>"
      ]
     },
     "metadata": {},
     "output_type": "display_data"
    }
   ],
   "source": [
    "sns.countplot(x='Sepssis',data=submission).set_title(\"Classify Sepssis of Patients Positive And Negative\")\n",
    "plt.show()\n",
    "plt.savefig('count_plot')"
   ]
  },
  {
   "cell_type": "code",
   "execution_count": 118,
   "id": "dc79488e",
   "metadata": {},
   "outputs": [
    {
     "name": "stdout",
     "output_type": "stream",
     "text": [
      "Percentage of Positive is:  36.09467455621302\n",
      "Percentage of Negative is:  63.905325443786985\n"
     ]
    }
   ],
   "source": [
    "Positive = len(submission[submission['Sepssis']== 1])\n",
    "Negative = len(submission[submission['Sepssis']== 0])\n",
    "percentagePositive = Positive / (Positive + Negative)\n",
    "print(\"Percentage of Positive is: \" , percentagePositive * 100)\n",
    "percentageNegative = Negative / (Positive + Negative)\n",
    "print(\"Percentage of Negative is: \" , percentageNegative * 100)"
   ]
  },
  {
   "cell_type": "markdown",
   "id": "5c840dc8",
   "metadata": {},
   "source": [
    "### 9.4 Transform dtype of column Sepssis back to Object (Negative & Positive)"
   ]
  },
  {
   "cell_type": "code",
   "execution_count": 129,
   "id": "a5b7b8ea",
   "metadata": {},
   "outputs": [
    {
     "data": {
      "text/html": [
       "<div>\n",
       "<style scoped>\n",
       "    .dataframe tbody tr th:only-of-type {\n",
       "        vertical-align: middle;\n",
       "    }\n",
       "\n",
       "    .dataframe tbody tr th {\n",
       "        vertical-align: top;\n",
       "    }\n",
       "\n",
       "    .dataframe thead th {\n",
       "        text-align: right;\n",
       "    }\n",
       "</style>\n",
       "<table border=\"1\" class=\"dataframe\">\n",
       "  <thead>\n",
       "    <tr style=\"text-align: right;\">\n",
       "      <th></th>\n",
       "      <th>ID</th>\n",
       "      <th>Sepssis</th>\n",
       "    </tr>\n",
       "  </thead>\n",
       "  <tbody>\n",
       "    <tr>\n",
       "      <th>0</th>\n",
       "      <td>ICU200609</td>\n",
       "      <td>Negative</td>\n",
       "    </tr>\n",
       "    <tr>\n",
       "      <th>1</th>\n",
       "      <td>ICU200610</td>\n",
       "      <td>Negative</td>\n",
       "    </tr>\n",
       "    <tr>\n",
       "      <th>2</th>\n",
       "      <td>ICU200611</td>\n",
       "      <td>Negative</td>\n",
       "    </tr>\n",
       "    <tr>\n",
       "      <th>3</th>\n",
       "      <td>ICU200612</td>\n",
       "      <td>Positive</td>\n",
       "    </tr>\n",
       "    <tr>\n",
       "      <th>4</th>\n",
       "      <td>ICU200613</td>\n",
       "      <td>Positive</td>\n",
       "    </tr>\n",
       "    <tr>\n",
       "      <th>...</th>\n",
       "      <td>...</td>\n",
       "      <td>...</td>\n",
       "    </tr>\n",
       "    <tr>\n",
       "      <th>164</th>\n",
       "      <td>ICU200773</td>\n",
       "      <td>Negative</td>\n",
       "    </tr>\n",
       "    <tr>\n",
       "      <th>165</th>\n",
       "      <td>ICU200774</td>\n",
       "      <td>Negative</td>\n",
       "    </tr>\n",
       "    <tr>\n",
       "      <th>166</th>\n",
       "      <td>ICU200775</td>\n",
       "      <td>Negative</td>\n",
       "    </tr>\n",
       "    <tr>\n",
       "      <th>167</th>\n",
       "      <td>ICU200776</td>\n",
       "      <td>Positive</td>\n",
       "    </tr>\n",
       "    <tr>\n",
       "      <th>168</th>\n",
       "      <td>ICU200777</td>\n",
       "      <td>Negative</td>\n",
       "    </tr>\n",
       "  </tbody>\n",
       "</table>\n",
       "<p>169 rows × 2 columns</p>\n",
       "</div>"
      ],
      "text/plain": [
       "            ID   Sepssis\n",
       "0    ICU200609  Negative\n",
       "1    ICU200610  Negative\n",
       "2    ICU200611  Negative\n",
       "3    ICU200612  Positive\n",
       "4    ICU200613  Positive\n",
       "..         ...       ...\n",
       "164  ICU200773  Negative\n",
       "165  ICU200774  Negative\n",
       "166  ICU200775  Negative\n",
       "167  ICU200776  Positive\n",
       "168  ICU200777  Negative\n",
       "\n",
       "[169 rows x 2 columns]"
      ]
     },
     "execution_count": 129,
     "metadata": {},
     "output_type": "execute_result"
    }
   ],
   "source": [
    "#Transform dtype of column Sepssis into Object again\n",
    "submission['Sepssis'] = submission['Sepssis'].apply(lambda x : 'Negative' if x == 0 else 'Positive')\n",
    "submission"
   ]
  },
  {
   "cell_type": "markdown",
   "id": "d9d87a2b",
   "metadata": {},
   "source": [
    "## 10. Export to file .csv"
   ]
  },
  {
   "cell_type": "code",
   "execution_count": 120,
   "id": "9a7707e9",
   "metadata": {},
   "outputs": [],
   "source": [
    "submission.to_csv('s3758994_predictions.csv',index=False)"
   ]
  }
 ],
 "metadata": {
  "kernelspec": {
   "display_name": "Python 3 (ipykernel)",
   "language": "python",
   "name": "python3"
  },
  "language_info": {
   "codemirror_mode": {
    "name": "ipython",
    "version": 3
   },
   "file_extension": ".py",
   "mimetype": "text/x-python",
   "name": "python",
   "nbconvert_exporter": "python",
   "pygments_lexer": "ipython3",
   "version": "3.9.7"
  }
 },
 "nbformat": 4,
 "nbformat_minor": 5
}
